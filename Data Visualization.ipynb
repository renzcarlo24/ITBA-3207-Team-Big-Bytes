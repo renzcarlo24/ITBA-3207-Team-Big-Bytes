{
  "cells": [
    {
      "cell_type": "markdown",
      "metadata": {
        "id": "view-in-github",
        "colab_type": "text"
      },
      "source": [
        "<a href=\"https://colab.research.google.com/github/renzcarlo24/ITBA-3207-Team-Big-Bytes/blob/main/Data%20Visualization.ipynb\" target=\"_parent\"><img src=\"https://colab.research.google.com/assets/colab-badge.svg\" alt=\"Open In Colab\"/></a>"
      ]
    },
    {
      "cell_type": "code",
      "execution_count": 43,
      "id": "eaecfe63",
      "metadata": {
        "id": "eaecfe63"
      },
      "outputs": [],
      "source": [
        "import numpy as np\n",
        "import pandas as pd\n",
        "import matplotlib as mpl\n",
        "import matplotlib.pyplot as plt\n",
        "import seaborn as sns\n",
        "from matplotlib import style\n",
        "import plotly.graph_objs as go"
      ]
    },
    {
      "cell_type": "markdown",
      "id": "720e7a14",
      "metadata": {
        "id": "720e7a14"
      },
      "source": [
        "# Southeast Asia Food Production 2018"
      ]
    },
    {
      "cell_type": "markdown",
      "id": "4b8a5675",
      "metadata": {
        "id": "4b8a5675"
      },
      "source": [
        "The following data provides information about the Southeast Asia Food Production from the year 2018"
      ]
    },
    {
      "cell_type": "code",
      "source": [
        "url = 'https://raw.githubusercontent.com/renzcarlo24/ITBA-3207-Team-Big-Bytes/main/Datasets/FoodProduction2018.csv'\n",
        "fp = pd.read_csv(url)\n",
        "display(fp.iloc[0:])"
      ],
      "metadata": {
        "colab": {
          "base_uri": "https://localhost:8080/",
          "height": 363
        },
        "id": "MVW_Qsjtu8jL",
        "outputId": "0bd8e63f-b3dd-4588-d8ed-6b35791f03d9"
      },
      "id": "MVW_Qsjtu8jL",
      "execution_count": 40,
      "outputs": [
        {
          "output_type": "display_data",
          "data": {
            "text/plain": [
              "  Country (Southeast Asia)  Food Production 2018\n",
              "0                     Laos                  92.7\n",
              "1                  Myanmar                  98.9\n",
              "2                   Brunei                 100.0\n",
              "3                  Vietnam                 101.0\n",
              "4              Philippines                 104.0\n",
              "5                 Cambodia                 106.0\n",
              "6                 Thailand                 106.0\n",
              "7                 Malaysia                 107.0\n",
              "8                Indonesia                 109.0\n",
              "9                Singapore                 113.0"
            ],
            "text/html": [
              "\n",
              "  <div id=\"df-8decaef3-dc50-4804-bc37-4872e465eaa3\">\n",
              "    <div class=\"colab-df-container\">\n",
              "      <div>\n",
              "<style scoped>\n",
              "    .dataframe tbody tr th:only-of-type {\n",
              "        vertical-align: middle;\n",
              "    }\n",
              "\n",
              "    .dataframe tbody tr th {\n",
              "        vertical-align: top;\n",
              "    }\n",
              "\n",
              "    .dataframe thead th {\n",
              "        text-align: right;\n",
              "    }\n",
              "</style>\n",
              "<table border=\"1\" class=\"dataframe\">\n",
              "  <thead>\n",
              "    <tr style=\"text-align: right;\">\n",
              "      <th></th>\n",
              "      <th>Country (Southeast Asia)</th>\n",
              "      <th>Food Production 2018</th>\n",
              "    </tr>\n",
              "  </thead>\n",
              "  <tbody>\n",
              "    <tr>\n",
              "      <th>0</th>\n",
              "      <td>Laos</td>\n",
              "      <td>92.7</td>\n",
              "    </tr>\n",
              "    <tr>\n",
              "      <th>1</th>\n",
              "      <td>Myanmar</td>\n",
              "      <td>98.9</td>\n",
              "    </tr>\n",
              "    <tr>\n",
              "      <th>2</th>\n",
              "      <td>Brunei</td>\n",
              "      <td>100.0</td>\n",
              "    </tr>\n",
              "    <tr>\n",
              "      <th>3</th>\n",
              "      <td>Vietnam</td>\n",
              "      <td>101.0</td>\n",
              "    </tr>\n",
              "    <tr>\n",
              "      <th>4</th>\n",
              "      <td>Philippines</td>\n",
              "      <td>104.0</td>\n",
              "    </tr>\n",
              "    <tr>\n",
              "      <th>5</th>\n",
              "      <td>Cambodia</td>\n",
              "      <td>106.0</td>\n",
              "    </tr>\n",
              "    <tr>\n",
              "      <th>6</th>\n",
              "      <td>Thailand</td>\n",
              "      <td>106.0</td>\n",
              "    </tr>\n",
              "    <tr>\n",
              "      <th>7</th>\n",
              "      <td>Malaysia</td>\n",
              "      <td>107.0</td>\n",
              "    </tr>\n",
              "    <tr>\n",
              "      <th>8</th>\n",
              "      <td>Indonesia</td>\n",
              "      <td>109.0</td>\n",
              "    </tr>\n",
              "    <tr>\n",
              "      <th>9</th>\n",
              "      <td>Singapore</td>\n",
              "      <td>113.0</td>\n",
              "    </tr>\n",
              "  </tbody>\n",
              "</table>\n",
              "</div>\n",
              "      <button class=\"colab-df-convert\" onclick=\"convertToInteractive('df-8decaef3-dc50-4804-bc37-4872e465eaa3')\"\n",
              "              title=\"Convert this dataframe to an interactive table.\"\n",
              "              style=\"display:none;\">\n",
              "        \n",
              "  <svg xmlns=\"http://www.w3.org/2000/svg\" height=\"24px\"viewBox=\"0 0 24 24\"\n",
              "       width=\"24px\">\n",
              "    <path d=\"M0 0h24v24H0V0z\" fill=\"none\"/>\n",
              "    <path d=\"M18.56 5.44l.94 2.06.94-2.06 2.06-.94-2.06-.94-.94-2.06-.94 2.06-2.06.94zm-11 1L8.5 8.5l.94-2.06 2.06-.94-2.06-.94L8.5 2.5l-.94 2.06-2.06.94zm10 10l.94 2.06.94-2.06 2.06-.94-2.06-.94-.94-2.06-.94 2.06-2.06.94z\"/><path d=\"M17.41 7.96l-1.37-1.37c-.4-.4-.92-.59-1.43-.59-.52 0-1.04.2-1.43.59L10.3 9.45l-7.72 7.72c-.78.78-.78 2.05 0 2.83L4 21.41c.39.39.9.59 1.41.59.51 0 1.02-.2 1.41-.59l7.78-7.78 2.81-2.81c.8-.78.8-2.07 0-2.86zM5.41 20L4 18.59l7.72-7.72 1.47 1.35L5.41 20z\"/>\n",
              "  </svg>\n",
              "      </button>\n",
              "      \n",
              "  <style>\n",
              "    .colab-df-container {\n",
              "      display:flex;\n",
              "      flex-wrap:wrap;\n",
              "      gap: 12px;\n",
              "    }\n",
              "\n",
              "    .colab-df-convert {\n",
              "      background-color: #E8F0FE;\n",
              "      border: none;\n",
              "      border-radius: 50%;\n",
              "      cursor: pointer;\n",
              "      display: none;\n",
              "      fill: #1967D2;\n",
              "      height: 32px;\n",
              "      padding: 0 0 0 0;\n",
              "      width: 32px;\n",
              "    }\n",
              "\n",
              "    .colab-df-convert:hover {\n",
              "      background-color: #E2EBFA;\n",
              "      box-shadow: 0px 1px 2px rgba(60, 64, 67, 0.3), 0px 1px 3px 1px rgba(60, 64, 67, 0.15);\n",
              "      fill: #174EA6;\n",
              "    }\n",
              "\n",
              "    [theme=dark] .colab-df-convert {\n",
              "      background-color: #3B4455;\n",
              "      fill: #D2E3FC;\n",
              "    }\n",
              "\n",
              "    [theme=dark] .colab-df-convert:hover {\n",
              "      background-color: #434B5C;\n",
              "      box-shadow: 0px 1px 3px 1px rgba(0, 0, 0, 0.15);\n",
              "      filter: drop-shadow(0px 1px 2px rgba(0, 0, 0, 0.3));\n",
              "      fill: #FFFFFF;\n",
              "    }\n",
              "  </style>\n",
              "\n",
              "      <script>\n",
              "        const buttonEl =\n",
              "          document.querySelector('#df-8decaef3-dc50-4804-bc37-4872e465eaa3 button.colab-df-convert');\n",
              "        buttonEl.style.display =\n",
              "          google.colab.kernel.accessAllowed ? 'block' : 'none';\n",
              "\n",
              "        async function convertToInteractive(key) {\n",
              "          const element = document.querySelector('#df-8decaef3-dc50-4804-bc37-4872e465eaa3');\n",
              "          const dataTable =\n",
              "            await google.colab.kernel.invokeFunction('convertToInteractive',\n",
              "                                                     [key], {});\n",
              "          if (!dataTable) return;\n",
              "\n",
              "          const docLinkHtml = 'Like what you see? Visit the ' +\n",
              "            '<a target=\"_blank\" href=https://colab.research.google.com/notebooks/data_table.ipynb>data table notebook</a>'\n",
              "            + ' to learn more about interactive tables.';\n",
              "          element.innerHTML = '';\n",
              "          dataTable['output_type'] = 'display_data';\n",
              "          await google.colab.output.renderOutput(dataTable, element);\n",
              "          const docLink = document.createElement('div');\n",
              "          docLink.innerHTML = docLinkHtml;\n",
              "          element.appendChild(docLink);\n",
              "        }\n",
              "      </script>\n",
              "    </div>\n",
              "  </div>\n",
              "  "
            ]
          },
          "metadata": {}
        }
      ]
    },
    {
      "cell_type": "code",
      "source": [
        "#getting all values from the dataframe/csv\n",
        "Country = fp[\"Country (Southeast Asia)\"]\n",
        "FP = fp[\"Food Production 2018\"]\n",
        "\n",
        "#size of the bar graph\n",
        "f = plt.figure(tight_layout=True)\n",
        "f.set_figwidth(23)\n",
        "f.set_figheight(10)\n",
        "\n",
        "#creating visualization for Unemployment Rate\n",
        "plt.xticks(fontsize=12)\n",
        "plt.yticks(fontsize=12)\n",
        "plt.ylabel(\"Southeast Asian Countries\", fontsize= 15)\n",
        "plt.xlabel(\"Food Production\", fontsize= 15)\n",
        "plt.title(\"\\n Southeast Asia Food Production in Year 2018\", fontweight=\"bold\", fontsize=20)\n",
        "colors = ['#D9D9D9', '#D9D9D9', '#D9D9D9', '#D9D9D9', '#f7786b', '#D9D9D9', '#D9D9D9', '#d64161', '#bc5a45', '#4040a1']\n",
        "plt.barh(Country, FP, color = colors )\n",
        "plt.show()\n",
        "#Saving visualizations in TIFF file with 300 dpi\n",
        "plt.savefig('FoodProduction.tiff', transparent=True, dpi=300)\n",
        "plt.show()"
      ],
      "metadata": {
        "colab": {
          "base_uri": "https://localhost:8080/",
          "height": 572
        },
        "id": "ARsJJqbnvQZT",
        "outputId": "b5dde82d-b890-43a8-9070-cba1560f2ff3"
      },
      "id": "ARsJJqbnvQZT",
      "execution_count": 42,
      "outputs": [
        {
          "output_type": "display_data",
          "data": {
            "text/plain": [
              "<Figure size 1656x720 with 1 Axes>"
            ],
            "image/png": "[encoded data removed]"
          },
          "metadata": {}
        },
        {
          "output_type": "display_data",
          "data": {
            "text/plain": [
              "<Figure size 432x288 with 0 Axes>"
            ]
          },
          "metadata": {}
        }
      ]
    },
    {
      "cell_type": "markdown",
      "source": [
        "# Interpretation:"
      ],
      "metadata": {
        "id": "oTNWW1DOvw-b"
      },
      "id": "oTNWW1DOvw-b"
    },
    {
      "cell_type": "markdown",
      "source": [
        "The bar graph depicts the food production in the countries of Southeast Asia in year 2018. The x-axis is dedicated to the food production kg/capita/year in each Southeast Asia countries. Then, the y-axis is for the countries in Southeast Asia. As shown in the graph, the top three highest in food production are Singapore, Indonesia and Malaysia. Then the Philiipines came in sixth among its neighboring countries with 104 kg/capita/year food produciton rate."
      ],
      "metadata": {
        "id": "rJxjRKQsv30z"
      },
      "id": "rJxjRKQsv30z"
    },
    {
      "cell_type": "code",
      "execution_count": 44,
      "id": "96331774",
      "metadata": {
        "id": "96331774",
        "outputId": "13edd639-7fdf-4084-e37e-0ee5dffc7fd2",
        "colab": {
          "base_uri": "https://localhost:8080/",
          "height": 300
        }
      },
      "outputs": [
        {
          "output_type": "execute_result",
          "data": {
            "text/plain": [
              "                  Country  2000  2006  2012  2021\n",
              "0                Thailand  18.5  12.3  12.4  11.7\n",
              "1                Malaysia  15.4  13.7  12.4  12.8\n",
              "2                Viet Nam  26.3  21.8  16.0  13.6\n",
              "3             Philippines  25.0  20.4  20.5  16.8\n",
              "4                Cambodia  41.1  27.1  24.2  17.0\n",
              "5                 Myanmar  39.8  31.6  22.9  17.5\n",
              "6               Indonesia  26.1  29.5  23.0  18.0\n",
              "7  Lao People's Dem. Rep.  44.1  31.9  25.7  19.5"
            ],
            "text/html": [
              "\n",
              "  <div id=\"df-199f6787-69e3-42f5-a704-81751daad046\">\n",
              "    <div class=\"colab-df-container\">\n",
              "      <div>\n",
              "<style scoped>\n",
              "    .dataframe tbody tr th:only-of-type {\n",
              "        vertical-align: middle;\n",
              "    }\n",
              "\n",
              "    .dataframe tbody tr th {\n",
              "        vertical-align: top;\n",
              "    }\n",
              "\n",
              "    .dataframe thead th {\n",
              "        text-align: right;\n",
              "    }\n",
              "</style>\n",
              "<table border=\"1\" class=\"dataframe\">\n",
              "  <thead>\n",
              "    <tr style=\"text-align: right;\">\n",
              "      <th></th>\n",
              "      <th>Country</th>\n",
              "      <th>2000</th>\n",
              "      <th>2006</th>\n",
              "      <th>2012</th>\n",
              "      <th>2021</th>\n",
              "    </tr>\n",
              "  </thead>\n",
              "  <tbody>\n",
              "    <tr>\n",
              "      <th>0</th>\n",
              "      <td>Thailand</td>\n",
              "      <td>18.5</td>\n",
              "      <td>12.3</td>\n",
              "      <td>12.4</td>\n",
              "      <td>11.7</td>\n",
              "    </tr>\n",
              "    <tr>\n",
              "      <th>1</th>\n",
              "      <td>Malaysia</td>\n",
              "      <td>15.4</td>\n",
              "      <td>13.7</td>\n",
              "      <td>12.4</td>\n",
              "      <td>12.8</td>\n",
              "    </tr>\n",
              "    <tr>\n",
              "      <th>2</th>\n",
              "      <td>Viet Nam</td>\n",
              "      <td>26.3</td>\n",
              "      <td>21.8</td>\n",
              "      <td>16.0</td>\n",
              "      <td>13.6</td>\n",
              "    </tr>\n",
              "    <tr>\n",
              "      <th>3</th>\n",
              "      <td>Philippines</td>\n",
              "      <td>25.0</td>\n",
              "      <td>20.4</td>\n",
              "      <td>20.5</td>\n",
              "      <td>16.8</td>\n",
              "    </tr>\n",
              "    <tr>\n",
              "      <th>4</th>\n",
              "      <td>Cambodia</td>\n",
              "      <td>41.1</td>\n",
              "      <td>27.1</td>\n",
              "      <td>24.2</td>\n",
              "      <td>17.0</td>\n",
              "    </tr>\n",
              "    <tr>\n",
              "      <th>5</th>\n",
              "      <td>Myanmar</td>\n",
              "      <td>39.8</td>\n",
              "      <td>31.6</td>\n",
              "      <td>22.9</td>\n",
              "      <td>17.5</td>\n",
              "    </tr>\n",
              "    <tr>\n",
              "      <th>6</th>\n",
              "      <td>Indonesia</td>\n",
              "      <td>26.1</td>\n",
              "      <td>29.5</td>\n",
              "      <td>23.0</td>\n",
              "      <td>18.0</td>\n",
              "    </tr>\n",
              "    <tr>\n",
              "      <th>7</th>\n",
              "      <td>Lao People's Dem. Rep.</td>\n",
              "      <td>44.1</td>\n",
              "      <td>31.9</td>\n",
              "      <td>25.7</td>\n",
              "      <td>19.5</td>\n",
              "    </tr>\n",
              "  </tbody>\n",
              "</table>\n",
              "</div>\n",
              "      <button class=\"colab-df-convert\" onclick=\"convertToInteractive('df-199f6787-69e3-42f5-a704-81751daad046')\"\n",
              "              title=\"Convert this dataframe to an interactive table.\"\n",
              "              style=\"display:none;\">\n",
              "        \n",
              "  <svg xmlns=\"http://www.w3.org/2000/svg\" height=\"24px\"viewBox=\"0 0 24 24\"\n",
              "       width=\"24px\">\n",
              "    <path d=\"M0 0h24v24H0V0z\" fill=\"none\"/>\n",
              "    <path d=\"M18.56 5.44l.94 2.06.94-2.06 2.06-.94-2.06-.94-.94-2.06-.94 2.06-2.06.94zm-11 1L8.5 8.5l.94-2.06 2.06-.94-2.06-.94L8.5 2.5l-.94 2.06-2.06.94zm10 10l.94 2.06.94-2.06 2.06-.94-2.06-.94-.94-2.06-.94 2.06-2.06.94z\"/><path d=\"M17.41 7.96l-1.37-1.37c-.4-.4-.92-.59-1.43-.59-.52 0-1.04.2-1.43.59L10.3 9.45l-7.72 7.72c-.78.78-.78 2.05 0 2.83L4 21.41c.39.39.9.59 1.41.59.51 0 1.02-.2 1.41-.59l7.78-7.78 2.81-2.81c.8-.78.8-2.07 0-2.86zM5.41 20L4 18.59l7.72-7.72 1.47 1.35L5.41 20z\"/>\n",
              "  </svg>\n",
              "      </button>\n",
              "      \n",
              "  <style>\n",
              "    .colab-df-container {\n",
              "      display:flex;\n",
              "      flex-wrap:wrap;\n",
              "      gap: 12px;\n",
              "    }\n",
              "\n",
              "    .colab-df-convert {\n",
              "      background-color: #E8F0FE;\n",
              "      border: none;\n",
              "      border-radius: 50%;\n",
              "      cursor: pointer;\n",
              "      display: none;\n",
              "      fill: #1967D2;\n",
              "      height: 32px;\n",
              "      padding: 0 0 0 0;\n",
              "      width: 32px;\n",
              "    }\n",
              "\n",
              "    .colab-df-convert:hover {\n",
              "      background-color: #E2EBFA;\n",
              "      box-shadow: 0px 1px 2px rgba(60, 64, 67, 0.3), 0px 1px 3px 1px rgba(60, 64, 67, 0.15);\n",
              "      fill: #174EA6;\n",
              "    }\n",
              "\n",
              "    [theme=dark] .colab-df-convert {\n",
              "      background-color: #3B4455;\n",
              "      fill: #D2E3FC;\n",
              "    }\n",
              "\n",
              "    [theme=dark] .colab-df-convert:hover {\n",
              "      background-color: #434B5C;\n",
              "      box-shadow: 0px 1px 3px 1px rgba(0, 0, 0, 0.15);\n",
              "      filter: drop-shadow(0px 1px 2px rgba(0, 0, 0, 0.3));\n",
              "      fill: #FFFFFF;\n",
              "    }\n",
              "  </style>\n",
              "\n",
              "      <script>\n",
              "        const buttonEl =\n",
              "          document.querySelector('#df-199f6787-69e3-42f5-a704-81751daad046 button.colab-df-convert');\n",
              "        buttonEl.style.display =\n",
              "          google.colab.kernel.accessAllowed ? 'block' : 'none';\n",
              "\n",
              "        async function convertToInteractive(key) {\n",
              "          const element = document.querySelector('#df-199f6787-69e3-42f5-a704-81751daad046');\n",
              "          const dataTable =\n",
              "            await google.colab.kernel.invokeFunction('convertToInteractive',\n",
              "                                                     [key], {});\n",
              "          if (!dataTable) return;\n",
              "\n",
              "          const docLinkHtml = 'Like what you see? Visit the ' +\n",
              "            '<a target=\"_blank\" href=https://colab.research.google.com/notebooks/data_table.ipynb>data table notebook</a>'\n",
              "            + ' to learn more about interactive tables.';\n",
              "          element.innerHTML = '';\n",
              "          dataTable['output_type'] = 'display_data';\n",
              "          await google.colab.output.renderOutput(dataTable, element);\n",
              "          const docLink = document.createElement('div');\n",
              "          docLink.innerHTML = docLinkHtml;\n",
              "          element.appendChild(docLink);\n",
              "        }\n",
              "      </script>\n",
              "    </div>\n",
              "  </div>\n",
              "  "
            ]
          },
          "metadata": {},
          "execution_count": 44
        }
      ],
      "source": [
        "url = 'https://raw.githubusercontent.com/renzcarlo24/ITBA-3207-Team-Big-Bytes/main/Datasets/GlobalHungerIndex2021.csv'\n",
        "ghi_data = pd.read_csv(url)\n",
        "ghi_data"
      ]
    },
    {
      "cell_type": "code",
      "execution_count": 45,
      "id": "3641175f",
      "metadata": {
        "id": "3641175f"
      },
      "outputs": [],
      "source": [
        "#Input Values\n",
        "Thailand = (18.5, 12.3, 12.4, 11.7)\n",
        "Malaysia = (15.4, 13.7, 12.4, 12.8)\n",
        "Vietnam = (26.3, 21.8, 16.0, 13.6)\n",
        "Philippines = (25.0, 20.4, 20.5, 16.8)\n",
        "Cambodia = (41.1, 27.1, 24.2, 17.0)\n",
        "Myanmar = (39.8, 31.6, 22.9, 17.5)\n",
        "Indonesia = (26.1, 29.5, 23.0, 18.0)\n",
        "Laos = (44.1, 31.9, 25.7, 19.5)"
      ]
    },
    {
      "cell_type": "code",
      "execution_count": 47,
      "id": "3510abc8",
      "metadata": {
        "id": "3510abc8",
        "outputId": "bbf6642c-759a-43a3-a560-8e643c2a1b5f",
        "colab": {
          "base_uri": "https://localhost:8080/",
          "height": 666
        }
      },
      "outputs": [
        {
          "output_type": "display_data",
          "data": {
            "text/plain": [
              "<Figure size 1080x792 with 1 Axes>"
            ],
            "image/png": "[encoded data removed]"
          },
          "metadata": {}
        }
      ],
      "source": [
        "#Creating the Plot\n",
        "style.use('ggplot')\n",
        "plt.figure(figsize=(15,11))\n",
        "barWidth = 0.4\n",
        "\n",
        "xpos = np.array([2000, 2006, 2012, 2021])\n",
        "plt.bar(xpos+1, Thailand, color='#4040a1', width =barWidth, label='Thailand')\n",
        "plt.bar(xpos+1.5, Malaysia, color='#b1cbbb', width =barWidth, label='Malaysia')\n",
        "plt.bar(xpos+2, Vietnam, color='#bc5a45', width =barWidth, label='Vietnam')\n",
        "plt.bar(xpos+2.5, Philippines, color='#618685', width =barWidth, label='Philippines')\n",
        "plt.bar(xpos+3, Cambodia, color='#ffef96', width =barWidth, label='Cambodia')\n",
        "plt.bar(xpos+3.5, Myanmar, color='#50394c', width =barWidth, label='Myanmar')\n",
        "plt.bar(xpos+4, Indonesia, color='#034f84', width =barWidth, label='Indonesia')\n",
        "plt.bar(xpos+4.5, Laos, color='#3e4444', width =barWidth, label='Laos')\n",
        "plt.xticks(xpos + 3,((('2000', '2006', '2012', '2021'))))\n",
        "plt.ylabel(\"Rankings\")\n",
        "plt.title('Global Hunger Index 2021', fontdict={'fontname': 'DejaVu Sans', 'fontsize': 18})\n",
        "plt.legend()\n",
        "#Saving visualizations in TIFF file with 300 dpi\n",
        "plt.savefig('FoodProduction.tiff', transparent=True, dpi=300)\n",
        "plt.show()"
      ]
    },
    {
      "cell_type": "code",
      "execution_count": null,
      "id": "ab32708d",
      "metadata": {
        "id": "ab32708d"
      },
      "outputs": [],
      "source": [
        ""
      ]
    }
  ],
  "metadata": {
    "kernelspec": {
      "display_name": "Python 3 (ipykernel)",
      "language": "python",
      "name": "python3"
    },
    "language_info": {
      "codemirror_mode": {
        "name": "ipython",
        "version": 3
      },
      "file_extension": ".py",
      "mimetype": "text/x-python",
      "name": "python",
      "nbconvert_exporter": "python",
      "pygments_lexer": "ipython3",
      "version": "3.9.12"
    },
    "colab": {
      "name": "Data Visualization.ipynb",
      "provenance": [],
      "include_colab_link": true
    }
  },
  "nbformat": 4,
  "nbformat_minor": 5
}