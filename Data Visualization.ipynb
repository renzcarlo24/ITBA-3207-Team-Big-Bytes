{
  "cells": [
    {
      "cell_type": "markdown",
      "metadata": {
        "id": "view-in-github",
        "colab_type": "text"
      },
      "source": [
        "<a href=\"https://colab.research.google.com/github/renzcarlo24/ITBA-3207-Team-Big-Bytes/blob/main/Data%20Visualization.ipynb\" target=\"_parent\"><img src=\"https://colab.research.google.com/assets/colab-badge.svg\" alt=\"Open In Colab\"/></a>"
      ]
    },
    {
      "cell_type": "code",
      "execution_count": 4,
      "id": "eaecfe63",
      "metadata": {
        "id": "eaecfe63"
      },
      "outputs": [],
      "source": [
        "import numpy as np\n",
        "import pandas as pd\n",
        "import matplotlib as mpl\n",
        "import matplotlib.pyplot as plt\n",
        "import seaborn as sns\n",
        "from matplotlib import style\n",
        "import plotly.graph_objs as go"
      ]
    },
    {
      "cell_type": "markdown",
      "id": "720e7a14",
      "metadata": {
        "id": "720e7a14"
      },
      "source": [
        "# Southeast Asia Food Production 2018"
      ]
    },
    {
      "cell_type": "markdown",
      "id": "4b8a5675",
      "metadata": {
        "id": "4b8a5675"
      },
      "source": [
        "The following data provides information about the Southeast Asia Food Production from the year 2018"
      ]
    },
    {
      "cell_type": "code",
      "source": [
        "url = 'https://raw.githubusercontent.com/renzcarlo24/ITBA-3207-Team-Big-Bytes/main/Datasets/FoodProduction2018.csv'\n",
        "fp = pd.read_csv(url)\n",
        "display(fp.iloc[0:])"
      ],
      "metadata": {
        "colab": {
          "base_uri": "https://localhost:8080/",
          "height": 363
        },
        "id": "MVW_Qsjtu8jL",
        "outputId": "0bd8e63f-b3dd-4588-d8ed-6b35791f03d9"
      },
      "id": "MVW_Qsjtu8jL",
      "execution_count": null,
      "outputs": [
        {
          "output_type": "display_data",
          "data": {
            "text/plain": [
              "  Country (Southeast Asia)  Food Production 2018\n",
              "0                     Laos                  92.7\n",
              "1                  Myanmar                  98.9\n",
              "2                   Brunei                 100.0\n",
              "3                  Vietnam                 101.0\n",
              "4              Philippines                 104.0\n",
              "5                 Cambodia                 106.0\n",
              "6                 Thailand                 106.0\n",
              "7                 Malaysia                 107.0\n",
              "8                Indonesia                 109.0\n",
              "9                Singapore                 113.0"
            ],
            "text/html": [
              "\n",
              "  <div id=\"df-8decaef3-dc50-4804-bc37-4872e465eaa3\">\n",
              "    <div class=\"colab-df-container\">\n",
              "      <div>\n",
              "<style scoped>\n",
              "    .dataframe tbody tr th:only-of-type {\n",
              "        vertical-align: middle;\n",
              "    }\n",
              "\n",
              "    .dataframe tbody tr th {\n",
              "        vertical-align: top;\n",
              "    }\n",
              "\n",
              "    .dataframe thead th {\n",
              "        text-align: right;\n",
              "    }\n",
              "</style>\n",
              "<table border=\"1\" class=\"dataframe\">\n",
              "  <thead>\n",
              "    <tr style=\"text-align: right;\">\n",
              "      <th></th>\n",
              "      <th>Country (Southeast Asia)</th>\n",
              "      <th>Food Production 2018</th>\n",
              "    </tr>\n",
              "  </thead>\n",
              "  <tbody>\n",
              "    <tr>\n",
              "      <th>0</th>\n",
              "      <td>Laos</td>\n",
              "      <td>92.7</td>\n",
              "    </tr>\n",
              "    <tr>\n",
              "      <th>1</th>\n",
              "      <td>Myanmar</td>\n",
              "      <td>98.9</td>\n",
              "    </tr>\n",
              "    <tr>\n",
              "      <th>2</th>\n",
              "      <td>Brunei</td>\n",
              "      <td>100.0</td>\n",
              "    </tr>\n",
              "    <tr>\n",
              "      <th>3</th>\n",
              "      <td>Vietnam</td>\n",
              "      <td>101.0</td>\n",
              "    </tr>\n",
              "    <tr>\n",
              "      <th>4</th>\n",
              "      <td>Philippines</td>\n",
              "      <td>104.0</td>\n",
              "    </tr>\n",
              "    <tr>\n",
              "      <th>5</th>\n",
              "      <td>Cambodia</td>\n",
              "      <td>106.0</td>\n",
              "    </tr>\n",
              "    <tr>\n",
              "      <th>6</th>\n",
              "      <td>Thailand</td>\n",
              "      <td>106.0</td>\n",
              "    </tr>\n",
              "    <tr>\n",
              "      <th>7</th>\n",
              "      <td>Malaysia</td>\n",
              "      <td>107.0</td>\n",
              "    </tr>\n",
              "    <tr>\n",
              "      <th>8</th>\n",
              "      <td>Indonesia</td>\n",
              "      <td>109.0</td>\n",
              "    </tr>\n",
              "    <tr>\n",
              "      <th>9</th>\n",
              "      <td>Singapore</td>\n",
              "      <td>113.0</td>\n",
              "    </tr>\n",
              "  </tbody>\n",
              "</table>\n",
              "</div>\n",
              "      <button class=\"colab-df-convert\" onclick=\"convertToInteractive('df-8decaef3-dc50-4804-bc37-4872e465eaa3')\"\n",
              "              title=\"Convert this dataframe to an interactive table.\"\n",
              "              style=\"display:none;\">\n",
              "        \n",
              "  <svg xmlns=\"http://www.w3.org/2000/svg\" height=\"24px\"viewBox=\"0 0 24 24\"\n",
              "       width=\"24px\">\n",
              "    <path d=\"M0 0h24v24H0V0z\" fill=\"none\"/>\n",
              "    <path d=\"M18.56 5.44l.94 2.06.94-2.06 2.06-.94-2.06-.94-.94-2.06-.94 2.06-2.06.94zm-11 1L8.5 8.5l.94-2.06 2.06-.94-2.06-.94L8.5 2.5l-.94 2.06-2.06.94zm10 10l.94 2.06.94-2.06 2.06-.94-2.06-.94-.94-2.06-.94 2.06-2.06.94z\"/><path d=\"M17.41 7.96l-1.37-1.37c-.4-.4-.92-.59-1.43-.59-.52 0-1.04.2-1.43.59L10.3 9.45l-7.72 7.72c-.78.78-.78 2.05 0 2.83L4 21.41c.39.39.9.59 1.41.59.51 0 1.02-.2 1.41-.59l7.78-7.78 2.81-2.81c.8-.78.8-2.07 0-2.86zM5.41 20L4 18.59l7.72-7.72 1.47 1.35L5.41 20z\"/>\n",
              "  </svg>\n",
              "      </button>\n",
              "      \n",
              "  <style>\n",
              "    .colab-df-container {\n",
              "      display:flex;\n",
              "      flex-wrap:wrap;\n",
              "      gap: 12px;\n",
              "    }\n",
              "\n",
              "    .colab-df-convert {\n",
              "      background-color: #E8F0FE;\n",
              "      border: none;\n",
              "      border-radius: 50%;\n",
              "      cursor: pointer;\n",
              "      display: none;\n",
              "      fill: #1967D2;\n",
              "      height: 32px;\n",
              "      padding: 0 0 0 0;\n",
              "      width: 32px;\n",
              "    }\n",
              "\n",
              "    .colab-df-convert:hover {\n",
              "      background-color: #E2EBFA;\n",
              "      box-shadow: 0px 1px 2px rgba(60, 64, 67, 0.3), 0px 1px 3px 1px rgba(60, 64, 67, 0.15);\n",
              "      fill: #174EA6;\n",
              "    }\n",
              "\n",
              "    [theme=dark] .colab-df-convert {\n",
              "      background-color: #3B4455;\n",
              "      fill: #D2E3FC;\n",
              "    }\n",
              "\n",
              "    [theme=dark] .colab-df-convert:hover {\n",
              "      background-color: #434B5C;\n",
              "      box-shadow: 0px 1px 3px 1px rgba(0, 0, 0, 0.15);\n",
              "      filter: drop-shadow(0px 1px 2px rgba(0, 0, 0, 0.3));\n",
              "      fill: #FFFFFF;\n",
              "    }\n",
              "  </style>\n",
              "\n",
              "      <script>\n",
              "        const buttonEl =\n",
              "          document.querySelector('#df-8decaef3-dc50-4804-bc37-4872e465eaa3 button.colab-df-convert');\n",
              "        buttonEl.style.display =\n",
              "          google.colab.kernel.accessAllowed ? 'block' : 'none';\n",
              "\n",
              "        async function convertToInteractive(key) {\n",
              "          const element = document.querySelector('#df-8decaef3-dc50-4804-bc37-4872e465eaa3');\n",
              "          const dataTable =\n",
              "            await google.colab.kernel.invokeFunction('convertToInteractive',\n",
              "                                                     [key], {});\n",
              "          if (!dataTable) return;\n",
              "\n",
              "          const docLinkHtml = 'Like what you see? Visit the ' +\n",
              "            '<a target=\"_blank\" href=https://colab.research.google.com/notebooks/data_table.ipynb>data table notebook</a>'\n",
              "            + ' to learn more about interactive tables.';\n",
              "          element.innerHTML = '';\n",
              "          dataTable['output_type'] = 'display_data';\n",
              "          await google.colab.output.renderOutput(dataTable, element);\n",
              "          const docLink = document.createElement('div');\n",
              "          docLink.innerHTML = docLinkHtml;\n",
              "          element.appendChild(docLink);\n",
              "        }\n",
              "      </script>\n",
              "    </div>\n",
              "  </div>\n",
              "  "
            ]
          },
          "metadata": {}
        }
      ]
    },
    {
      "cell_type": "code",
      "source": [
        "#getting all values from the dataframe/csv\n",
        "Country = fp[\"Country (Southeast Asia)\"]\n",
        "FP = fp[\"Food Production 2018\"]\n",
        "\n",
        "#size of the bar graph\n",
        "f = plt.figure(tight_layout=True)\n",
        "f.set_figwidth(23)\n",
        "f.set_figheight(10)\n",
        "\n",
        "#creating visualization for Unemployment Rate\n",
        "plt.xticks(fontsize=12)\n",
        "plt.yticks(fontsize=12)\n",
        "plt.ylabel(\"Southeast Asian Countries\", fontsize= 15)\n",
        "plt.xlabel(\"Food Production\", fontsize= 15)\n",
        "plt.title(\"\\n Southeast Asia Food Production in Year 2018\", fontweight=\"bold\", fontsize=20)\n",
        "colors = ['#D9D9D9', '#D9D9D9', '#D9D9D9', '#D9D9D9', '#f7786b', '#D9D9D9', '#D9D9D9', '#d64161', '#bc5a45', '#4040a1']\n",
        "plt.barh(Country, FP, color = colors )\n",
        "plt.show()\n",
        "#Saving visualizations in TIFF file with 300 dpi\n",
        "plt.savefig('FoodProduction.tiff', transparent=True, dpi=300)\n",
        "plt.show()"
      ],
      "metadata": {
        "colab": {
          "base_uri": "https://localhost:8080/",
          "height": 572
        },
        "id": "ARsJJqbnvQZT",
        "outputId": "b5dde82d-b890-43a8-9070-cba1560f2ff3"
      },
      "id": "ARsJJqbnvQZT",
      "execution_count": null,
      "outputs": [
        {
          "output_type": "display_data",
          "data": {
            "text/plain": [
              "<Figure size 1656x720 with 1 Axes>"
            ],
            "image/png": "[encoded data removed]"
          },
          "metadata": {}
        },
        {
          "output_type": "display_data",
          "data": {
            "text/plain": [
              "<Figure size 432x288 with 0 Axes>"
            ]
          },
          "metadata": {}
        }
      ]
    },
    {
      "cell_type": "markdown",
      "source": [
        "# Interpretation:"
      ],
      "metadata": {
        "id": "KPpsISzV0RZg"
      },
      "id": "KPpsISzV0RZg"
    },
    {
      "cell_type": "markdown",
      "source": [
        "The bar graph depicts the food production in the countries of Southeast Asia in year 2018. The x-axis is dedicated to the food production kg/capita/year in each Southeast Asia countries. Then, the y-axis is for the countries in Southeast Asia. As shown in the graph, the top three highest in food production are Singapore, Indonesia and Malaysia. Then the Philiipines came in sixth among its neighboring countries with 104 kg/capita/year food produciton rate."
      ],
      "metadata": {
        "id": "E3NiESWcz4M3"
      },
      "id": "E3NiESWcz4M3"
    },
    {
      "cell_type": "markdown",
      "source": [
        "# Categories of Food Wastes in Southeast Asia"
      ],
      "metadata": {
        "id": "yntBPTcuz6av"
      },
      "id": "yntBPTcuz6av"
    },
    {
      "cell_type": "markdown",
      "source": [
        "- The following data provides information on the food waste in countries in Southeast Asia. Food waste is dividided into three categories: Household which are the waste come from each family houses. Then, Food service are the waste that are come from some establishments such as restaurants, fast food chains, food stands and such. Lastly, the when the consumers typically waste food simply by buying too much and throwing it out, that is the retail food waste."
      ],
      "metadata": {
        "id": "MiSbD3wMz9An"
      },
      "id": "MiSbD3wMz9An"
    },
    {
      "cell_type": "code",
      "source": [
        "url = 'https://raw.githubusercontent.com/renzcarlo24/ITBA-3207-Team-Big-Bytes/main/Datasets/FoodWaste.csv'\n",
        "fw = pd.read_csv(url)\n",
        "fw"
      ],
      "metadata": {
        "id": "2pOhn6UGzCqQ",
        "outputId": "ad17c332-77ed-45e2-ced9-28d74a93fb68",
        "colab": {
          "base_uri": "https://localhost:8080/",
          "height": 363
        }
      },
      "id": "2pOhn6UGzCqQ",
      "execution_count": null,
      "outputs": [
        {
          "output_type": "execute_result",
          "data": {
            "text/plain": [
              "       Country  Household(kg/capita/year)  Food service(kg/capita/year)  \\\n",
              "0       Brunei                         80                            26   \n",
              "1     Cambodia                         86                            28   \n",
              "2    Indonesia                         77                            28   \n",
              "3         Laos                         86                            28   \n",
              "4     Malaysia                         91                            90   \n",
              "5      Myanmar                         86                            28   \n",
              "6  Philippines                         86                            28   \n",
              "7    Singapore                         80                            26   \n",
              "8     Thailand                         79                            28   \n",
              "9      Vietnam                         76                            28   \n",
              "\n",
              "   Retail(kg/capita/year)  \n",
              "0                      13  \n",
              "1                      16  \n",
              "2                      16  \n",
              "3                      16  \n",
              "4                      79  \n",
              "5                      16  \n",
              "6                      16  \n",
              "7                      13  \n",
              "8                      16  \n",
              "9                      16  "
            ],
            "text/html": [
              "\n",
              "  <div id=\"df-7514fc36-397f-4435-8deb-3bb29928d14e\">\n",
              "    <div class=\"colab-df-container\">\n",
              "      <div>\n",
              "<style scoped>\n",
              "    .dataframe tbody tr th:only-of-type {\n",
              "        vertical-align: middle;\n",
              "    }\n",
              "\n",
              "    .dataframe tbody tr th {\n",
              "        vertical-align: top;\n",
              "    }\n",
              "\n",
              "    .dataframe thead th {\n",
              "        text-align: right;\n",
              "    }\n",
              "</style>\n",
              "<table border=\"1\" class=\"dataframe\">\n",
              "  <thead>\n",
              "    <tr style=\"text-align: right;\">\n",
              "      <th></th>\n",
              "      <th>Country</th>\n",
              "      <th>Household(kg/capita/year)</th>\n",
              "      <th>Food service(kg/capita/year)</th>\n",
              "      <th>Retail(kg/capita/year)</th>\n",
              "    </tr>\n",
              "  </thead>\n",
              "  <tbody>\n",
              "    <tr>\n",
              "      <th>0</th>\n",
              "      <td>Brunei</td>\n",
              "      <td>80</td>\n",
              "      <td>26</td>\n",
              "      <td>13</td>\n",
              "    </tr>\n",
              "    <tr>\n",
              "      <th>1</th>\n",
              "      <td>Cambodia</td>\n",
              "      <td>86</td>\n",
              "      <td>28</td>\n",
              "      <td>16</td>\n",
              "    </tr>\n",
              "    <tr>\n",
              "      <th>2</th>\n",
              "      <td>Indonesia</td>\n",
              "      <td>77</td>\n",
              "      <td>28</td>\n",
              "      <td>16</td>\n",
              "    </tr>\n",
              "    <tr>\n",
              "      <th>3</th>\n",
              "      <td>Laos</td>\n",
              "      <td>86</td>\n",
              "      <td>28</td>\n",
              "      <td>16</td>\n",
              "    </tr>\n",
              "    <tr>\n",
              "      <th>4</th>\n",
              "      <td>Malaysia</td>\n",
              "      <td>91</td>\n",
              "      <td>90</td>\n",
              "      <td>79</td>\n",
              "    </tr>\n",
              "    <tr>\n",
              "      <th>5</th>\n",
              "      <td>Myanmar</td>\n",
              "      <td>86</td>\n",
              "      <td>28</td>\n",
              "      <td>16</td>\n",
              "    </tr>\n",
              "    <tr>\n",
              "      <th>6</th>\n",
              "      <td>Philippines</td>\n",
              "      <td>86</td>\n",
              "      <td>28</td>\n",
              "      <td>16</td>\n",
              "    </tr>\n",
              "    <tr>\n",
              "      <th>7</th>\n",
              "      <td>Singapore</td>\n",
              "      <td>80</td>\n",
              "      <td>26</td>\n",
              "      <td>13</td>\n",
              "    </tr>\n",
              "    <tr>\n",
              "      <th>8</th>\n",
              "      <td>Thailand</td>\n",
              "      <td>79</td>\n",
              "      <td>28</td>\n",
              "      <td>16</td>\n",
              "    </tr>\n",
              "    <tr>\n",
              "      <th>9</th>\n",
              "      <td>Vietnam</td>\n",
              "      <td>76</td>\n",
              "      <td>28</td>\n",
              "      <td>16</td>\n",
              "    </tr>\n",
              "  </tbody>\n",
              "</table>\n",
              "</div>\n",
              "      <button class=\"colab-df-convert\" onclick=\"convertToInteractive('df-7514fc36-397f-4435-8deb-3bb29928d14e')\"\n",
              "              title=\"Convert this dataframe to an interactive table.\"\n",
              "              style=\"display:none;\">\n",
              "        \n",
              "  <svg xmlns=\"http://www.w3.org/2000/svg\" height=\"24px\"viewBox=\"0 0 24 24\"\n",
              "       width=\"24px\">\n",
              "    <path d=\"M0 0h24v24H0V0z\" fill=\"none\"/>\n",
              "    <path d=\"M18.56 5.44l.94 2.06.94-2.06 2.06-.94-2.06-.94-.94-2.06-.94 2.06-2.06.94zm-11 1L8.5 8.5l.94-2.06 2.06-.94-2.06-.94L8.5 2.5l-.94 2.06-2.06.94zm10 10l.94 2.06.94-2.06 2.06-.94-2.06-.94-.94-2.06-.94 2.06-2.06.94z\"/><path d=\"M17.41 7.96l-1.37-1.37c-.4-.4-.92-.59-1.43-.59-.52 0-1.04.2-1.43.59L10.3 9.45l-7.72 7.72c-.78.78-.78 2.05 0 2.83L4 21.41c.39.39.9.59 1.41.59.51 0 1.02-.2 1.41-.59l7.78-7.78 2.81-2.81c.8-.78.8-2.07 0-2.86zM5.41 20L4 18.59l7.72-7.72 1.47 1.35L5.41 20z\"/>\n",
              "  </svg>\n",
              "      </button>\n",
              "      \n",
              "  <style>\n",
              "    .colab-df-container {\n",
              "      display:flex;\n",
              "      flex-wrap:wrap;\n",
              "      gap: 12px;\n",
              "    }\n",
              "\n",
              "    .colab-df-convert {\n",
              "      background-color: #E8F0FE;\n",
              "      border: none;\n",
              "      border-radius: 50%;\n",
              "      cursor: pointer;\n",
              "      display: none;\n",
              "      fill: #1967D2;\n",
              "      height: 32px;\n",
              "      padding: 0 0 0 0;\n",
              "      width: 32px;\n",
              "    }\n",
              "\n",
              "    .colab-df-convert:hover {\n",
              "      background-color: #E2EBFA;\n",
              "      box-shadow: 0px 1px 2px rgba(60, 64, 67, 0.3), 0px 1px 3px 1px rgba(60, 64, 67, 0.15);\n",
              "      fill: #174EA6;\n",
              "    }\n",
              "\n",
              "    [theme=dark] .colab-df-convert {\n",
              "      background-color: #3B4455;\n",
              "      fill: #D2E3FC;\n",
              "    }\n",
              "\n",
              "    [theme=dark] .colab-df-convert:hover {\n",
              "      background-color: #434B5C;\n",
              "      box-shadow: 0px 1px 3px 1px rgba(0, 0, 0, 0.15);\n",
              "      filter: drop-shadow(0px 1px 2px rgba(0, 0, 0, 0.3));\n",
              "      fill: #FFFFFF;\n",
              "    }\n",
              "  </style>\n",
              "\n",
              "      <script>\n",
              "        const buttonEl =\n",
              "          document.querySelector('#df-7514fc36-397f-4435-8deb-3bb29928d14e button.colab-df-convert');\n",
              "        buttonEl.style.display =\n",
              "          google.colab.kernel.accessAllowed ? 'block' : 'none';\n",
              "\n",
              "        async function convertToInteractive(key) {\n",
              "          const element = document.querySelector('#df-7514fc36-397f-4435-8deb-3bb29928d14e');\n",
              "          const dataTable =\n",
              "            await google.colab.kernel.invokeFunction('convertToInteractive',\n",
              "                                                     [key], {});\n",
              "          if (!dataTable) return;\n",
              "\n",
              "          const docLinkHtml = 'Like what you see? Visit the ' +\n",
              "            '<a target=\"_blank\" href=https://colab.research.google.com/notebooks/data_table.ipynb>data table notebook</a>'\n",
              "            + ' to learn more about interactive tables.';\n",
              "          element.innerHTML = '';\n",
              "          dataTable['output_type'] = 'display_data';\n",
              "          await google.colab.output.renderOutput(dataTable, element);\n",
              "          const docLink = document.createElement('div');\n",
              "          docLink.innerHTML = docLinkHtml;\n",
              "          element.appendChild(docLink);\n",
              "        }\n",
              "      </script>\n",
              "    </div>\n",
              "  </div>\n",
              "  "
            ]
          },
          "metadata": {},
          "execution_count": 49
        }
      ]
    },
    {
      "cell_type": "code",
      "source": [
        "#getting all values from the dataframe/csv\n",
        "Country = fw[\"Country\"]\n",
        "Household = fw[\"Household(kg/capita/year)\"]\n",
        "Food_service = fw[\"Food service(kg/capita/year)\"]\n",
        "Retail = fw[\"Retail(kg/capita/year)\"]\n",
        "\n",
        "#size of the bar graph\n",
        "fw = plt.figure()\n",
        "fw.set_figwidth(23)\n",
        "fw.set_figheight(10)\n",
        "plt.rcParams['axes.facecolor'] = '#F2F2F2'\n",
        "\n",
        "#Setting labels\n",
        "plt.ylabel(\"Food Waste\" , fontsize=15)\n",
        "plt.xlabel(\"Southeast Asian Countries\", fontsize=15)\n",
        "plt.title(\"\\n Food Waste in Southeast Asia\",  fontweight=\"bold\" , fontsize=20)\n",
        "\n",
        "#creating visualizations \n",
        "xpos = np.arange(len(Country))\n",
        "widthSize=0.25\n",
        "plt.bar(xpos, Household, color=\"#b9936c\", width = widthSize, label='Household(kg/capita/year)')\n",
        "plt.bar(xpos+0.3, Food_service, color=\"#dac292\", width = widthSize, label='Food service(kg/capita/year)')\n",
        "plt.bar(xpos+0.6, Retail, color=\"#c4b7a6\", width = widthSize, label='Retail(kg/capita/year)')\n",
        "plt.xticks(xpos+0.3, ('Brunei', 'Cambodia', 'Indonesia', 'Laos','Malaysia','Myanmar', 'Philippines', 'Singapore', 'Thailand','Vietnam'), fontsize=12)\n",
        "plt.yticks(fontsize=12)\n",
        "plt.legend()\n",
        "#Saving visualizations in TIFF file with 300 dpi\n",
        "plt.savefig('FoodProduction.tiff', transparent=True, dpi=300)\n",
        "plt.show()"
      ],
      "metadata": {
        "id": "mZF8DcyzzoXP",
        "outputId": "1e753d86-a70e-4898-e3ee-32488eef736c",
        "colab": {
          "base_uri": "https://localhost:8080/",
          "height": 612
        }
      },
      "id": "mZF8DcyzzoXP",
      "execution_count": null,
      "outputs": [
        {
          "output_type": "display_data",
          "data": {
            "text/plain": [
              "<Figure size 1656x720 with 1 Axes>"
            ],
            "image/png": "[encoded data removed]"
          },
          "metadata": {}
        }
      ]
    },
    {
      "cell_type": "markdown",
      "source": [
        "# Interpretation:"
      ],
      "metadata": {
        "id": "oTNWW1DOvw-b"
      },
      "id": "oTNWW1DOvw-b"
    },
    {
      "cell_type": "markdown",
      "source": [
        "The bar graph depicts the food production in the countries of Southeast Asia in year 2018. The x-axis is dedicated to the food production kg/capita/year in each Southeast Asia countries. Then, the y-axis is for the countries in Southeast Asia. As shown in the graph, the top three highest in food production are Singapore, Indonesia and Malaysia. Then the Philiipines came in sixth among its neighboring countries with 104 kg/capita/year food produciton rate."
      ],
      "metadata": {
        "id": "rJxjRKQsv30z"
      },
      "id": "rJxjRKQsv30z"
    },
    {
      "cell_type": "markdown",
      "source": [
        "# Southeast Asia Countries Population Growth in Year 2015-2050"
      ],
      "metadata": {
        "id": "EHwfRYXT0-vH"
      },
      "id": "EHwfRYXT0-vH"
    },
    {
      "cell_type": "markdown",
      "source": [
        "- The following data provides an information to the number of population in the countries at Southeast Asia. This datasets helps the researchers to visualize the growth in population in each country that are related in increasing amount of food waste."
      ],
      "metadata": {
        "id": "9KItkq4M1Aog"
      },
      "id": "9KItkq4M1Aog"
    },
    {
      "cell_type": "code",
      "source": [
        "url = 'https://raw.githubusercontent.com/renzcarlo24/ITBA-3207-Team-Big-Bytes/main/Datasets/Food_waste_emissions.csv'\n",
        "fwe = pd.read_csv(url)"
      ],
      "metadata": {
        "id": "DrEnvSJ686fw"
      },
      "id": "DrEnvSJ686fw",
      "execution_count": null,
      "outputs": []
    },
    {
      "cell_type": "code",
      "source": [
        "fwe"
      ],
      "metadata": {
        "colab": {
          "base_uri": "https://localhost:8080/",
          "height": 81
        },
        "id": "fBX9YnqH88xH",
        "outputId": "022d7479-055e-4c69-e9ed-5460aa056fea"
      },
      "id": "fBX9YnqH88xH",
      "execution_count": null,
      "outputs": [
        {
          "output_type": "execute_result",
          "data": {
            "text/plain": [
              "   Lost in supply chains  consumer waste  food eaten\n",
              "0                     15               9          76"
            ],
            "text/html": [
              "\n",
              "  <div id=\"df-0204e89f-d53b-43d0-b3c0-06b287c5ba38\">\n",
              "    <div class=\"colab-df-container\">\n",
              "      <div>\n",
              "<style scoped>\n",
              "    .dataframe tbody tr th:only-of-type {\n",
              "        vertical-align: middle;\n",
              "    }\n",
              "\n",
              "    .dataframe tbody tr th {\n",
              "        vertical-align: top;\n",
              "    }\n",
              "\n",
              "    .dataframe thead th {\n",
              "        text-align: right;\n",
              "    }\n",
              "</style>\n",
              "<table border=\"1\" class=\"dataframe\">\n",
              "  <thead>\n",
              "    <tr style=\"text-align: right;\">\n",
              "      <th></th>\n",
              "      <th>Lost in supply chains</th>\n",
              "      <th>consumer waste</th>\n",
              "      <th>food eaten</th>\n",
              "    </tr>\n",
              "  </thead>\n",
              "  <tbody>\n",
              "    <tr>\n",
              "      <th>0</th>\n",
              "      <td>15</td>\n",
              "      <td>9</td>\n",
              "      <td>76</td>\n",
              "    </tr>\n",
              "  </tbody>\n",
              "</table>\n",
              "</div>\n",
              "      <button class=\"colab-df-convert\" onclick=\"convertToInteractive('df-0204e89f-d53b-43d0-b3c0-06b287c5ba38')\"\n",
              "              title=\"Convert this dataframe to an interactive table.\"\n",
              "              style=\"display:none;\">\n",
              "        \n",
              "  <svg xmlns=\"http://www.w3.org/2000/svg\" height=\"24px\"viewBox=\"0 0 24 24\"\n",
              "       width=\"24px\">\n",
              "    <path d=\"M0 0h24v24H0V0z\" fill=\"none\"/>\n",
              "    <path d=\"M18.56 5.44l.94 2.06.94-2.06 2.06-.94-2.06-.94-.94-2.06-.94 2.06-2.06.94zm-11 1L8.5 8.5l.94-2.06 2.06-.94-2.06-.94L8.5 2.5l-.94 2.06-2.06.94zm10 10l.94 2.06.94-2.06 2.06-.94-2.06-.94-.94-2.06-.94 2.06-2.06.94z\"/><path d=\"M17.41 7.96l-1.37-1.37c-.4-.4-.92-.59-1.43-.59-.52 0-1.04.2-1.43.59L10.3 9.45l-7.72 7.72c-.78.78-.78 2.05 0 2.83L4 21.41c.39.39.9.59 1.41.59.51 0 1.02-.2 1.41-.59l7.78-7.78 2.81-2.81c.8-.78.8-2.07 0-2.86zM5.41 20L4 18.59l7.72-7.72 1.47 1.35L5.41 20z\"/>\n",
              "  </svg>\n",
              "      </button>\n",
              "      \n",
              "  <style>\n",
              "    .colab-df-container {\n",
              "      display:flex;\n",
              "      flex-wrap:wrap;\n",
              "      gap: 12px;\n",
              "    }\n",
              "\n",
              "    .colab-df-convert {\n",
              "      background-color: #E8F0FE;\n",
              "      border: none;\n",
              "      border-radius: 50%;\n",
              "      cursor: pointer;\n",
              "      display: none;\n",
              "      fill: #1967D2;\n",
              "      height: 32px;\n",
              "      padding: 0 0 0 0;\n",
              "      width: 32px;\n",
              "    }\n",
              "\n",
              "    .colab-df-convert:hover {\n",
              "      background-color: #E2EBFA;\n",
              "      box-shadow: 0px 1px 2px rgba(60, 64, 67, 0.3), 0px 1px 3px 1px rgba(60, 64, 67, 0.15);\n",
              "      fill: #174EA6;\n",
              "    }\n",
              "\n",
              "    [theme=dark] .colab-df-convert {\n",
              "      background-color: #3B4455;\n",
              "      fill: #D2E3FC;\n",
              "    }\n",
              "\n",
              "    [theme=dark] .colab-df-convert:hover {\n",
              "      background-color: #434B5C;\n",
              "      box-shadow: 0px 1px 3px 1px rgba(0, 0, 0, 0.15);\n",
              "      filter: drop-shadow(0px 1px 2px rgba(0, 0, 0, 0.3));\n",
              "      fill: #FFFFFF;\n",
              "    }\n",
              "  </style>\n",
              "\n",
              "      <script>\n",
              "        const buttonEl =\n",
              "          document.querySelector('#df-0204e89f-d53b-43d0-b3c0-06b287c5ba38 button.colab-df-convert');\n",
              "        buttonEl.style.display =\n",
              "          google.colab.kernel.accessAllowed ? 'block' : 'none';\n",
              "\n",
              "        async function convertToInteractive(key) {\n",
              "          const element = document.querySelector('#df-0204e89f-d53b-43d0-b3c0-06b287c5ba38');\n",
              "          const dataTable =\n",
              "            await google.colab.kernel.invokeFunction('convertToInteractive',\n",
              "                                                     [key], {});\n",
              "          if (!dataTable) return;\n",
              "\n",
              "          const docLinkHtml = 'Like what you see? Visit the ' +\n",
              "            '<a target=\"_blank\" href=https://colab.research.google.com/notebooks/data_table.ipynb>data table notebook</a>'\n",
              "            + ' to learn more about interactive tables.';\n",
              "          element.innerHTML = '';\n",
              "          dataTable['output_type'] = 'display_data';\n",
              "          await google.colab.output.renderOutput(dataTable, element);\n",
              "          const docLink = document.createElement('div');\n",
              "          docLink.innerHTML = docLinkHtml;\n",
              "          element.appendChild(docLink);\n",
              "        }\n",
              "      </script>\n",
              "    </div>\n",
              "  </div>\n",
              "  "
            ]
          },
          "metadata": {},
          "execution_count": 3
        }
      ]
    },
    {
      "cell_type": "code",
      "source": [
        "#Input Values\n",
        "emission = ['Lost in Supply chains', 'Consumer waste', 'Food eaten']\n",
        "value = [15, 9, 76]\n",
        "#size of the graph\n",
        "plt.figure(figsize = (8,9))\n",
        "#creating visualizations \n",
        "plt.rcParams['axes.facecolor'] = '#F2F2F2'\n",
        "colors = ['#FAAA17', '#EBC590', '#E33B3A',]\n",
        "plt.pie(value, labels=emission, colors = colors, autopct='%1.2f%%', wedgeprops = { 'linewidth' : 3, 'edgecolor' : 'white' }, pctdistance=0.7, labeldistance=1.1, startangle=35, shadow = True, textprops={'fontsize': 10})\n",
        "plt.title('Food Waste Emissions' , fontdict={'fontname': 'serif','fontweight':'bold', 'fontsize':20})\n",
        "plt.legend(ncol=11, bbox_to_anchor=(0.5, -0.1), loc='upper center');"
      ],
      "metadata": {
        "colab": {
          "base_uri": "https://localhost:8080/",
          "height": 567
        },
        "id": "QZf4OzU59G72",
        "outputId": "51217ef2-dfac-4910-92f5-4e3f277e2083"
      },
      "id": "QZf4OzU59G72",
      "execution_count": null,
      "outputs": [
        {
          "output_type": "display_data",
          "data": {
            "text/plain": [
              "<Figure size 576x648 with 1 Axes>"
            ],
            "image/png": "[encoded data removed]"
          },
          "metadata": {}
        }
      ]
    },
    {
      "cell_type": "code",
      "source": [
        "url = 'https://raw.githubusercontent.com/renzcarlo24/ITBA-3207-Team-Big-Bytes/main/Datasets/MSW_in_ASEAN_Countries.csv'\n",
        "msw = pd.read_csv(url)"
      ],
      "metadata": {
        "id": "QMdQRRgp9rQr"
      },
      "id": "QMdQRRgp9rQr",
      "execution_count": null,
      "outputs": []
    },
    {
      "cell_type": "code",
      "source": [
        "msw"
      ],
      "metadata": {
        "colab": {
          "base_uri": "https://localhost:8080/",
          "height": 394
        },
        "id": "_uyuukEk97rb",
        "outputId": "1d5abc17-0767-4766-bd55-f03977293d7b"
      },
      "id": "_uyuukEk97rb",
      "execution_count": null,
      "outputs": [
        {
          "output_type": "execute_result",
          "data": {
            "text/plain": [
              "            Countries  Food/Organic Waste  Paper  Plastic  Metal  Glass  \\\n",
              "0   Brunei Darussalam                36.0  18.00    16.00   4.00   3.00   \n",
              "1            Cambodia                60.0   9.00    15.00    NaN   3.00   \n",
              "2           Indonesia                60.0   9.00    14.00   4.30   1.70   \n",
              "3             Lao PDR                64.0   7.00    12.00   1.00   7.00   \n",
              "4            Malaysia                45.0   8.20    13.20    NaN   3.30   \n",
              "5             Myanmae                73.0   2.24    17.75    NaN   0.45   \n",
              "6         Philippines                52.0   8.70    10.55   4.22   2.34   \n",
              "7           Singapore                10.5  16.50    11.60  20.80   1.10   \n",
              "8            Thailand                64.0   8.00    17.62   2.00   3.00   \n",
              "9            Viet Nam                55.0   5.00    10.00   5.00   3.00   \n",
              "10              ASEAN               519.5  91.64   137.72  41.32  27.89   \n",
              "\n",
              "    Textile  Rubber  Grass/Wood etc. waste  Construction Debris  Others  \n",
              "0       NaN     NaN                    NaN                  NaN     NaN  \n",
              "1      1.00     1.0                    NaN                  NaN     NaN  \n",
              "2      3.50     5.5                    NaN                  NaN    2.40  \n",
              "3      5.00     3.0                    NaN                  NaN     NaN  \n",
              "4       NaN     NaN                    NaN                  NaN   27.30  \n",
              "5      1.14     NaN                    NaN                  NaN    5.15  \n",
              "6      1.61     NaN                    NaN                  NaN     NaN  \n",
              "7      2.10     NaN                    8.6                 16.9   11.90  \n",
              "8      1.40     1.0                    1.0                  NaN     NaN  \n",
              "9       NaN     4.0                    NaN                  NaN     NaN  \n",
              "10    15.75    14.5                    9.6                 16.9   46.75  "
            ],
            "text/html": [
              "\n",
              "  <div id=\"df-35a73b94-c0ed-4f7c-8590-ba9cff10d9b0\">\n",
              "    <div class=\"colab-df-container\">\n",
              "      <div>\n",
              "<style scoped>\n",
              "    .dataframe tbody tr th:only-of-type {\n",
              "        vertical-align: middle;\n",
              "    }\n",
              "\n",
              "    .dataframe tbody tr th {\n",
              "        vertical-align: top;\n",
              "    }\n",
              "\n",
              "    .dataframe thead th {\n",
              "        text-align: right;\n",
              "    }\n",
              "</style>\n",
              "<table border=\"1\" class=\"dataframe\">\n",
              "  <thead>\n",
              "    <tr style=\"text-align: right;\">\n",
              "      <th></th>\n",
              "      <th>Countries</th>\n",
              "      <th>Food/Organic Waste</th>\n",
              "      <th>Paper</th>\n",
              "      <th>Plastic</th>\n",
              "      <th>Metal</th>\n",
              "      <th>Glass</th>\n",
              "      <th>Textile</th>\n",
              "      <th>Rubber</th>\n",
              "      <th>Grass/Wood etc. waste</th>\n",
              "      <th>Construction Debris</th>\n",
              "      <th>Others</th>\n",
              "    </tr>\n",
              "  </thead>\n",
              "  <tbody>\n",
              "    <tr>\n",
              "      <th>0</th>\n",
              "      <td>Brunei Darussalam</td>\n",
              "      <td>36.0</td>\n",
              "      <td>18.00</td>\n",
              "      <td>16.00</td>\n",
              "      <td>4.00</td>\n",
              "      <td>3.00</td>\n",
              "      <td>NaN</td>\n",
              "      <td>NaN</td>\n",
              "      <td>NaN</td>\n",
              "      <td>NaN</td>\n",
              "      <td>NaN</td>\n",
              "    </tr>\n",
              "    <tr>\n",
              "      <th>1</th>\n",
              "      <td>Cambodia</td>\n",
              "      <td>60.0</td>\n",
              "      <td>9.00</td>\n",
              "      <td>15.00</td>\n",
              "      <td>NaN</td>\n",
              "      <td>3.00</td>\n",
              "      <td>1.00</td>\n",
              "      <td>1.0</td>\n",
              "      <td>NaN</td>\n",
              "      <td>NaN</td>\n",
              "      <td>NaN</td>\n",
              "    </tr>\n",
              "    <tr>\n",
              "      <th>2</th>\n",
              "      <td>Indonesia</td>\n",
              "      <td>60.0</td>\n",
              "      <td>9.00</td>\n",
              "      <td>14.00</td>\n",
              "      <td>4.30</td>\n",
              "      <td>1.70</td>\n",
              "      <td>3.50</td>\n",
              "      <td>5.5</td>\n",
              "      <td>NaN</td>\n",
              "      <td>NaN</td>\n",
              "      <td>2.40</td>\n",
              "    </tr>\n",
              "    <tr>\n",
              "      <th>3</th>\n",
              "      <td>Lao PDR</td>\n",
              "      <td>64.0</td>\n",
              "      <td>7.00</td>\n",
              "      <td>12.00</td>\n",
              "      <td>1.00</td>\n",
              "      <td>7.00</td>\n",
              "      <td>5.00</td>\n",
              "      <td>3.0</td>\n",
              "      <td>NaN</td>\n",
              "      <td>NaN</td>\n",
              "      <td>NaN</td>\n",
              "    </tr>\n",
              "    <tr>\n",
              "      <th>4</th>\n",
              "      <td>Malaysia</td>\n",
              "      <td>45.0</td>\n",
              "      <td>8.20</td>\n",
              "      <td>13.20</td>\n",
              "      <td>NaN</td>\n",
              "      <td>3.30</td>\n",
              "      <td>NaN</td>\n",
              "      <td>NaN</td>\n",
              "      <td>NaN</td>\n",
              "      <td>NaN</td>\n",
              "      <td>27.30</td>\n",
              "    </tr>\n",
              "    <tr>\n",
              "      <th>5</th>\n",
              "      <td>Myanmae</td>\n",
              "      <td>73.0</td>\n",
              "      <td>2.24</td>\n",
              "      <td>17.75</td>\n",
              "      <td>NaN</td>\n",
              "      <td>0.45</td>\n",
              "      <td>1.14</td>\n",
              "      <td>NaN</td>\n",
              "      <td>NaN</td>\n",
              "      <td>NaN</td>\n",
              "      <td>5.15</td>\n",
              "    </tr>\n",
              "    <tr>\n",
              "      <th>6</th>\n",
              "      <td>Philippines</td>\n",
              "      <td>52.0</td>\n",
              "      <td>8.70</td>\n",
              "      <td>10.55</td>\n",
              "      <td>4.22</td>\n",
              "      <td>2.34</td>\n",
              "      <td>1.61</td>\n",
              "      <td>NaN</td>\n",
              "      <td>NaN</td>\n",
              "      <td>NaN</td>\n",
              "      <td>NaN</td>\n",
              "    </tr>\n",
              "    <tr>\n",
              "      <th>7</th>\n",
              "      <td>Singapore</td>\n",
              "      <td>10.5</td>\n",
              "      <td>16.50</td>\n",
              "      <td>11.60</td>\n",
              "      <td>20.80</td>\n",
              "      <td>1.10</td>\n",
              "      <td>2.10</td>\n",
              "      <td>NaN</td>\n",
              "      <td>8.6</td>\n",
              "      <td>16.9</td>\n",
              "      <td>11.90</td>\n",
              "    </tr>\n",
              "    <tr>\n",
              "      <th>8</th>\n",
              "      <td>Thailand</td>\n",
              "      <td>64.0</td>\n",
              "      <td>8.00</td>\n",
              "      <td>17.62</td>\n",
              "      <td>2.00</td>\n",
              "      <td>3.00</td>\n",
              "      <td>1.40</td>\n",
              "      <td>1.0</td>\n",
              "      <td>1.0</td>\n",
              "      <td>NaN</td>\n",
              "      <td>NaN</td>\n",
              "    </tr>\n",
              "    <tr>\n",
              "      <th>9</th>\n",
              "      <td>Viet Nam</td>\n",
              "      <td>55.0</td>\n",
              "      <td>5.00</td>\n",
              "      <td>10.00</td>\n",
              "      <td>5.00</td>\n",
              "      <td>3.00</td>\n",
              "      <td>NaN</td>\n",
              "      <td>4.0</td>\n",
              "      <td>NaN</td>\n",
              "      <td>NaN</td>\n",
              "      <td>NaN</td>\n",
              "    </tr>\n",
              "    <tr>\n",
              "      <th>10</th>\n",
              "      <td>ASEAN</td>\n",
              "      <td>519.5</td>\n",
              "      <td>91.64</td>\n",
              "      <td>137.72</td>\n",
              "      <td>41.32</td>\n",
              "      <td>27.89</td>\n",
              "      <td>15.75</td>\n",
              "      <td>14.5</td>\n",
              "      <td>9.6</td>\n",
              "      <td>16.9</td>\n",
              "      <td>46.75</td>\n",
              "    </tr>\n",
              "  </tbody>\n",
              "</table>\n",
              "</div>\n",
              "      <button class=\"colab-df-convert\" onclick=\"convertToInteractive('df-35a73b94-c0ed-4f7c-8590-ba9cff10d9b0')\"\n",
              "              title=\"Convert this dataframe to an interactive table.\"\n",
              "              style=\"display:none;\">\n",
              "        \n",
              "  <svg xmlns=\"http://www.w3.org/2000/svg\" height=\"24px\"viewBox=\"0 0 24 24\"\n",
              "       width=\"24px\">\n",
              "    <path d=\"M0 0h24v24H0V0z\" fill=\"none\"/>\n",
              "    <path d=\"M18.56 5.44l.94 2.06.94-2.06 2.06-.94-2.06-.94-.94-2.06-.94 2.06-2.06.94zm-11 1L8.5 8.5l.94-2.06 2.06-.94-2.06-.94L8.5 2.5l-.94 2.06-2.06.94zm10 10l.94 2.06.94-2.06 2.06-.94-2.06-.94-.94-2.06-.94 2.06-2.06.94z\"/><path d=\"M17.41 7.96l-1.37-1.37c-.4-.4-.92-.59-1.43-.59-.52 0-1.04.2-1.43.59L10.3 9.45l-7.72 7.72c-.78.78-.78 2.05 0 2.83L4 21.41c.39.39.9.59 1.41.59.51 0 1.02-.2 1.41-.59l7.78-7.78 2.81-2.81c.8-.78.8-2.07 0-2.86zM5.41 20L4 18.59l7.72-7.72 1.47 1.35L5.41 20z\"/>\n",
              "  </svg>\n",
              "      </button>\n",
              "      \n",
              "  <style>\n",
              "    .colab-df-container {\n",
              "      display:flex;\n",
              "      flex-wrap:wrap;\n",
              "      gap: 12px;\n",
              "    }\n",
              "\n",
              "    .colab-df-convert {\n",
              "      background-color: #E8F0FE;\n",
              "      border: none;\n",
              "      border-radius: 50%;\n",
              "      cursor: pointer;\n",
              "      display: none;\n",
              "      fill: #1967D2;\n",
              "      height: 32px;\n",
              "      padding: 0 0 0 0;\n",
              "      width: 32px;\n",
              "    }\n",
              "\n",
              "    .colab-df-convert:hover {\n",
              "      background-color: #E2EBFA;\n",
              "      box-shadow: 0px 1px 2px rgba(60, 64, 67, 0.3), 0px 1px 3px 1px rgba(60, 64, 67, 0.15);\n",
              "      fill: #174EA6;\n",
              "    }\n",
              "\n",
              "    [theme=dark] .colab-df-convert {\n",
              "      background-color: #3B4455;\n",
              "      fill: #D2E3FC;\n",
              "    }\n",
              "\n",
              "    [theme=dark] .colab-df-convert:hover {\n",
              "      background-color: #434B5C;\n",
              "      box-shadow: 0px 1px 3px 1px rgba(0, 0, 0, 0.15);\n",
              "      filter: drop-shadow(0px 1px 2px rgba(0, 0, 0, 0.3));\n",
              "      fill: #FFFFFF;\n",
              "    }\n",
              "  </style>\n",
              "\n",
              "      <script>\n",
              "        const buttonEl =\n",
              "          document.querySelector('#df-35a73b94-c0ed-4f7c-8590-ba9cff10d9b0 button.colab-df-convert');\n",
              "        buttonEl.style.display =\n",
              "          google.colab.kernel.accessAllowed ? 'block' : 'none';\n",
              "\n",
              "        async function convertToInteractive(key) {\n",
              "          const element = document.querySelector('#df-35a73b94-c0ed-4f7c-8590-ba9cff10d9b0');\n",
              "          const dataTable =\n",
              "            await google.colab.kernel.invokeFunction('convertToInteractive',\n",
              "                                                     [key], {});\n",
              "          if (!dataTable) return;\n",
              "\n",
              "          const docLinkHtml = 'Like what you see? Visit the ' +\n",
              "            '<a target=\"_blank\" href=https://colab.research.google.com/notebooks/data_table.ipynb>data table notebook</a>'\n",
              "            + ' to learn more about interactive tables.';\n",
              "          element.innerHTML = '';\n",
              "          dataTable['output_type'] = 'display_data';\n",
              "          await google.colab.output.renderOutput(dataTable, element);\n",
              "          const docLink = document.createElement('div');\n",
              "          docLink.innerHTML = docLinkHtml;\n",
              "          element.appendChild(docLink);\n",
              "        }\n",
              "      </script>\n",
              "    </div>\n",
              "  </div>\n",
              "  "
            ]
          },
          "metadata": {},
          "execution_count": 6
        }
      ]
    },
    {
      "cell_type": "code",
      "source": [
        "#size of the graph\n",
        "plt.figure(figsize = (8,9))\n",
        "#Input Values\n",
        "waste = ['Food/Organic Waste', 'Paper', 'Plastic', 'Metal', 'Glass', 'Textile', 'Rubber', 'Grass/Wood etc. waste', 'Construction Debris', 'Others']\n",
        "value = [519.5, 91.64, 137.72, 41.32, 27.89, 15.75, 14.5, 9.6, 16.9, 46.75]\n",
        "#creating visualizations \n",
        "plt.style.use('ggplot')\n",
        "plt.title('Composition of MSW in ASEAN Countries' , fontdict={'fontname': 'serif','fontweight':'bold', 'fontsize':20})\n",
        "plt.pie(x=value, labels=waste, autopct='%.2f%%', startangle=50)\n",
        "plt.axis('equal')\n",
        "plt.legend(ncol=11, bbox_to_anchor=(0.5, -0.1), loc='upper center');\n",
        "circle = plt.Circle(xy=(0,0), radius=.50, facecolor='white')\n",
        "plt.gca().add_artist(circle)\n",
        "plt.show()"
      ],
      "metadata": {
        "colab": {
          "base_uri": "https://localhost:8080/",
          "height": 614
        },
        "id": "VVP9VoXs9_lx",
        "outputId": "638a6d5c-f4e8-46cd-9393-cdd28afbbbd5"
      },
      "id": "VVP9VoXs9_lx",
      "execution_count": null,
      "outputs": [
        {
          "output_type": "display_data",
          "data": {
            "text/plain": [
              "<Figure size 576x648 with 1 Axes>"
            ],
            "image/png": "[encoded data removed]"
          },
          "metadata": {}
        }
      ]
    },
    {
      "cell_type": "code",
      "source": [
        "#size of the graph\n",
        "plt.figure(figsize = (8,9))\n",
        "#Input Values\n",
        "waste = ['Food/Organic Waste', 'Paper', 'Plastic', 'Metal', 'Glass', 'Textile']\n",
        "value = [52.0, 8.70, 10.55, 4.22, 2.34, 1.61]\n",
        "#creating visualizations \n",
        "plt.style.use('ggplot')\n",
        "plt.title('Composition of MSW in Philippines' , fontdict={'fontname': 'serif','fontweight':'bold', 'fontsize':20})\n",
        "plt.pie(x=value, labels=waste, autopct='%.2f%%', startangle=50)\n",
        "plt.axis('equal')\n",
        "plt.legend(ncol=9, bbox_to_anchor=(0.5, 0.1), loc='upper center');\n",
        "circle = plt.Circle(xy=(0,0), radius=.50, facecolor='white')\n",
        "plt.gca().add_artist(circle)\n",
        "plt.show()"
      ],
      "metadata": {
        "colab": {
          "base_uri": "https://localhost:8080/",
          "height": 542
        },
        "id": "3iPfPHvv-ZlK",
        "outputId": "380a4eba-240a-44a2-9265-5936bf76826a"
      },
      "id": "3iPfPHvv-ZlK",
      "execution_count": null,
      "outputs": [
        {
          "output_type": "display_data",
          "data": {
            "text/plain": [
              "<Figure size 576x648 with 1 Axes>"
            ],
            "image/png": "[encoded data removed]"
          },
          "metadata": {}
        }
      ]
    },
    {
      "cell_type": "code",
      "source": [
        ""
      ],
      "metadata": {
        "id": "M5VDjCew-uBy"
      },
      "id": "M5VDjCew-uBy",
      "execution_count": null,
      "outputs": []
    },
    {
      "cell_type": "code",
      "source": [
        ""
      ],
      "metadata": {
        "id": "w4itpNBZGiwQ"
      },
      "id": "w4itpNBZGiwQ",
      "execution_count": null,
      "outputs": []
    },
    {
      "cell_type": "code",
      "source": [
        "url = 'https://raw.githubusercontent.com/renzcarlo24/ITBA-3207-Team-Big-Bytes/main/Datasets/TotalPopulation.csv'\n",
        "tp = pd.read_csv(url)\n",
        "tp"
      ],
      "metadata": {
        "id": "DXiR6x1q1E0w",
        "outputId": "1421e141-18d6-40f2-893e-75fe7801b99d",
        "colab": {
          "base_uri": "https://localhost:8080/",
          "height": 363
        }
      },
      "id": "DXiR6x1q1E0w",
      "execution_count": null,
      "outputs": [
        {
          "output_type": "execute_result",
          "data": {
            "text/plain": [
              "       Country   2015   2020   2025   2030   2035   2040   2045   2050\n",
              "0       Brunei    0.4    0.4    0.5    0.5    0.5    0.5    0.5    0.5\n",
              "1     Cambodia   15.5   16.7   17.8   18.8   19.7   20.6   21.4   22.0\n",
              "2    Indonesia  258.2  272.2  284.8  295.6  304.8  312.1  317.7  321.6\n",
              "3         Laos    6.7    7.2    7.6    8.0    8.4    8.7    9.0    9.2\n",
              "4     Malaysia   30.7   32.9   34.9   36.8   38.4   39.7   40.8   41.7\n",
              "5      Myanmar   52.4   54.8   57.0   58.9   60.4   61.5   62.1   62.4\n",
              "6  Philippines  101.7  109.7  117.7  125.4  132.7  139.4  145.7  151.3\n",
              "7    Singapore    5.5    5.9    6.2    6.3    6.5    6.6    6.6    6.6\n",
              "8     Thailand   68.7   69.4   69.7   69.6   69.2   68.3   67.0   65.4\n",
              "9      Vietnam   93.6   98.4  102.8  106.3  109.0  111.2  113.1  114.6"
            ],
            "text/html": [
              "\n",
              "  <div id=\"df-97800db5-bac0-4897-a713-074ec619bee2\">\n",
              "    <div class=\"colab-df-container\">\n",
              "      <div>\n",
              "<style scoped>\n",
              "    .dataframe tbody tr th:only-of-type {\n",
              "        vertical-align: middle;\n",
              "    }\n",
              "\n",
              "    .dataframe tbody tr th {\n",
              "        vertical-align: top;\n",
              "    }\n",
              "\n",
              "    .dataframe thead th {\n",
              "        text-align: right;\n",
              "    }\n",
              "</style>\n",
              "<table border=\"1\" class=\"dataframe\">\n",
              "  <thead>\n",
              "    <tr style=\"text-align: right;\">\n",
              "      <th></th>\n",
              "      <th>Country</th>\n",
              "      <th>2015</th>\n",
              "      <th>2020</th>\n",
              "      <th>2025</th>\n",
              "      <th>2030</th>\n",
              "      <th>2035</th>\n",
              "      <th>2040</th>\n",
              "      <th>2045</th>\n",
              "      <th>2050</th>\n",
              "    </tr>\n",
              "  </thead>\n",
              "  <tbody>\n",
              "    <tr>\n",
              "      <th>0</th>\n",
              "      <td>Brunei</td>\n",
              "      <td>0.4</td>\n",
              "      <td>0.4</td>\n",
              "      <td>0.5</td>\n",
              "      <td>0.5</td>\n",
              "      <td>0.5</td>\n",
              "      <td>0.5</td>\n",
              "      <td>0.5</td>\n",
              "      <td>0.5</td>\n",
              "    </tr>\n",
              "    <tr>\n",
              "      <th>1</th>\n",
              "      <td>Cambodia</td>\n",
              "      <td>15.5</td>\n",
              "      <td>16.7</td>\n",
              "      <td>17.8</td>\n",
              "      <td>18.8</td>\n",
              "      <td>19.7</td>\n",
              "      <td>20.6</td>\n",
              "      <td>21.4</td>\n",
              "      <td>22.0</td>\n",
              "    </tr>\n",
              "    <tr>\n",
              "      <th>2</th>\n",
              "      <td>Indonesia</td>\n",
              "      <td>258.2</td>\n",
              "      <td>272.2</td>\n",
              "      <td>284.8</td>\n",
              "      <td>295.6</td>\n",
              "      <td>304.8</td>\n",
              "      <td>312.1</td>\n",
              "      <td>317.7</td>\n",
              "      <td>321.6</td>\n",
              "    </tr>\n",
              "    <tr>\n",
              "      <th>3</th>\n",
              "      <td>Laos</td>\n",
              "      <td>6.7</td>\n",
              "      <td>7.2</td>\n",
              "      <td>7.6</td>\n",
              "      <td>8.0</td>\n",
              "      <td>8.4</td>\n",
              "      <td>8.7</td>\n",
              "      <td>9.0</td>\n",
              "      <td>9.2</td>\n",
              "    </tr>\n",
              "    <tr>\n",
              "      <th>4</th>\n",
              "      <td>Malaysia</td>\n",
              "      <td>30.7</td>\n",
              "      <td>32.9</td>\n",
              "      <td>34.9</td>\n",
              "      <td>36.8</td>\n",
              "      <td>38.4</td>\n",
              "      <td>39.7</td>\n",
              "      <td>40.8</td>\n",
              "      <td>41.7</td>\n",
              "    </tr>\n",
              "    <tr>\n",
              "      <th>5</th>\n",
              "      <td>Myanmar</td>\n",
              "      <td>52.4</td>\n",
              "      <td>54.8</td>\n",
              "      <td>57.0</td>\n",
              "      <td>58.9</td>\n",
              "      <td>60.4</td>\n",
              "      <td>61.5</td>\n",
              "      <td>62.1</td>\n",
              "      <td>62.4</td>\n",
              "    </tr>\n",
              "    <tr>\n",
              "      <th>6</th>\n",
              "      <td>Philippines</td>\n",
              "      <td>101.7</td>\n",
              "      <td>109.7</td>\n",
              "      <td>117.7</td>\n",
              "      <td>125.4</td>\n",
              "      <td>132.7</td>\n",
              "      <td>139.4</td>\n",
              "      <td>145.7</td>\n",
              "      <td>151.3</td>\n",
              "    </tr>\n",
              "    <tr>\n",
              "      <th>7</th>\n",
              "      <td>Singapore</td>\n",
              "      <td>5.5</td>\n",
              "      <td>5.9</td>\n",
              "      <td>6.2</td>\n",
              "      <td>6.3</td>\n",
              "      <td>6.5</td>\n",
              "      <td>6.6</td>\n",
              "      <td>6.6</td>\n",
              "      <td>6.6</td>\n",
              "    </tr>\n",
              "    <tr>\n",
              "      <th>8</th>\n",
              "      <td>Thailand</td>\n",
              "      <td>68.7</td>\n",
              "      <td>69.4</td>\n",
              "      <td>69.7</td>\n",
              "      <td>69.6</td>\n",
              "      <td>69.2</td>\n",
              "      <td>68.3</td>\n",
              "      <td>67.0</td>\n",
              "      <td>65.4</td>\n",
              "    </tr>\n",
              "    <tr>\n",
              "      <th>9</th>\n",
              "      <td>Vietnam</td>\n",
              "      <td>93.6</td>\n",
              "      <td>98.4</td>\n",
              "      <td>102.8</td>\n",
              "      <td>106.3</td>\n",
              "      <td>109.0</td>\n",
              "      <td>111.2</td>\n",
              "      <td>113.1</td>\n",
              "      <td>114.6</td>\n",
              "    </tr>\n",
              "  </tbody>\n",
              "</table>\n",
              "</div>\n",
              "      <button class=\"colab-df-convert\" onclick=\"convertToInteractive('df-97800db5-bac0-4897-a713-074ec619bee2')\"\n",
              "              title=\"Convert this dataframe to an interactive table.\"\n",
              "              style=\"display:none;\">\n",
              "        \n",
              "  <svg xmlns=\"http://www.w3.org/2000/svg\" height=\"24px\"viewBox=\"0 0 24 24\"\n",
              "       width=\"24px\">\n",
              "    <path d=\"M0 0h24v24H0V0z\" fill=\"none\"/>\n",
              "    <path d=\"M18.56 5.44l.94 2.06.94-2.06 2.06-.94-2.06-.94-.94-2.06-.94 2.06-2.06.94zm-11 1L8.5 8.5l.94-2.06 2.06-.94-2.06-.94L8.5 2.5l-.94 2.06-2.06.94zm10 10l.94 2.06.94-2.06 2.06-.94-2.06-.94-.94-2.06-.94 2.06-2.06.94z\"/><path d=\"M17.41 7.96l-1.37-1.37c-.4-.4-.92-.59-1.43-.59-.52 0-1.04.2-1.43.59L10.3 9.45l-7.72 7.72c-.78.78-.78 2.05 0 2.83L4 21.41c.39.39.9.59 1.41.59.51 0 1.02-.2 1.41-.59l7.78-7.78 2.81-2.81c.8-.78.8-2.07 0-2.86zM5.41 20L4 18.59l7.72-7.72 1.47 1.35L5.41 20z\"/>\n",
              "  </svg>\n",
              "      </button>\n",
              "      \n",
              "  <style>\n",
              "    .colab-df-container {\n",
              "      display:flex;\n",
              "      flex-wrap:wrap;\n",
              "      gap: 12px;\n",
              "    }\n",
              "\n",
              "    .colab-df-convert {\n",
              "      background-color: #E8F0FE;\n",
              "      border: none;\n",
              "      border-radius: 50%;\n",
              "      cursor: pointer;\n",
              "      display: none;\n",
              "      fill: #1967D2;\n",
              "      height: 32px;\n",
              "      padding: 0 0 0 0;\n",
              "      width: 32px;\n",
              "    }\n",
              "\n",
              "    .colab-df-convert:hover {\n",
              "      background-color: #E2EBFA;\n",
              "      box-shadow: 0px 1px 2px rgba(60, 64, 67, 0.3), 0px 1px 3px 1px rgba(60, 64, 67, 0.15);\n",
              "      fill: #174EA6;\n",
              "    }\n",
              "\n",
              "    [theme=dark] .colab-df-convert {\n",
              "      background-color: #3B4455;\n",
              "      fill: #D2E3FC;\n",
              "    }\n",
              "\n",
              "    [theme=dark] .colab-df-convert:hover {\n",
              "      background-color: #434B5C;\n",
              "      box-shadow: 0px 1px 3px 1px rgba(0, 0, 0, 0.15);\n",
              "      filter: drop-shadow(0px 1px 2px rgba(0, 0, 0, 0.3));\n",
              "      fill: #FFFFFF;\n",
              "    }\n",
              "  </style>\n",
              "\n",
              "      <script>\n",
              "        const buttonEl =\n",
              "          document.querySelector('#df-97800db5-bac0-4897-a713-074ec619bee2 button.colab-df-convert');\n",
              "        buttonEl.style.display =\n",
              "          google.colab.kernel.accessAllowed ? 'block' : 'none';\n",
              "\n",
              "        async function convertToInteractive(key) {\n",
              "          const element = document.querySelector('#df-97800db5-bac0-4897-a713-074ec619bee2');\n",
              "          const dataTable =\n",
              "            await google.colab.kernel.invokeFunction('convertToInteractive',\n",
              "                                                     [key], {});\n",
              "          if (!dataTable) return;\n",
              "\n",
              "          const docLinkHtml = 'Like what you see? Visit the ' +\n",
              "            '<a target=\"_blank\" href=https://colab.research.google.com/notebooks/data_table.ipynb>data table notebook</a>'\n",
              "            + ' to learn more about interactive tables.';\n",
              "          element.innerHTML = '';\n",
              "          dataTable['output_type'] = 'display_data';\n",
              "          await google.colab.output.renderOutput(dataTable, element);\n",
              "          const docLink = document.createElement('div');\n",
              "          docLink.innerHTML = docLinkHtml;\n",
              "          element.appendChild(docLink);\n",
              "        }\n",
              "      </script>\n",
              "    </div>\n",
              "  </div>\n",
              "  "
            ]
          },
          "metadata": {},
          "execution_count": 51
        }
      ]
    },
    {
      "cell_type": "code",
      "source": [
        "#Input Values\n",
        "Brunei = (0.4, 0.4, 0.5, 0.5, 0.5, 0.5, 0.5, 0.5)\n",
        "Cambodia = (15.5, 16.7, 17.8, 18.8, 19.7, 20.6, 21.4, 22.0)\n",
        "Indonesia = (258.2, 272.2, 284.8, 295.6, 304.8, 312.1, 317.7, 321.6)\n",
        "Laos = (6.7, 7.2, 7.6, 8.0, 8.4, 8.7, 9.0, 9.2)\n",
        "Malaysia = (30.7, 32.9, 34.9, 36.8, 38.4, 39.7, 40.8, 41.7)\n",
        "Myanmar = (52.4, 54.8, 57.0, 58.9, 60.4, 61.5, 62.1, 62.4)\n",
        "Philippines = (101.7, 109.7, 117.7, 125.4, 132.7, 139.4, 145.7, 151.3)\n",
        "Singapore = (5.5, 5.9, 6.2, 6.3, 6.5, 6.6, 6.6, 6.6)\n",
        "Thailand = (68.7, 69.4, 69.7, 69.6, 69.2, 68.3, 67.0, 65.4)\n",
        "Vietnam = (93.6, 98.4, 102.8, 106.3, 109.0, 111.2, 113.1, 114.6)"
      ],
      "metadata": {
        "id": "7KVHgTPj1a8Z"
      },
      "id": "7KVHgTPj1a8Z",
      "execution_count": null,
      "outputs": []
    },
    {
      "cell_type": "code",
      "source": [
        "#Creating the Plot\n",
        "style.use('ggplot')\n",
        "plt.figure(figsize=(12,9))\n",
        "barWidth = 0.5\n",
        "\n",
        "xpos = np.array([2015, 2020, 2025, 2030, 2035, 2040, 2045, 2050])\n",
        "plt.bar(xpos+1, Brunei, color='#4040a1', width =barWidth, label='Brunei')\n",
        "plt.bar(xpos+1.5, Cambodia, color='#b1cbbb', width =barWidth, label='Cambodia')\n",
        "plt.bar(xpos+2, Indonesia, color='#bc5a45', width =barWidth, label='Indonesia')\n",
        "plt.bar(xpos+2.5, Laos, color='#618685', width =barWidth, label='Laos')\n",
        "plt.bar(xpos+3, Malaysia, color='#ffef96', width =barWidth, label='Malaysia')\n",
        "plt.bar(xpos+3.5, Myanmar, color='#50394c', width =barWidth, label='Myanmar')\n",
        "plt.bar(xpos+4, Philippines, color='#034f84', width =barWidth, label='Philippines')\n",
        "plt.bar(xpos+4.5, Singapore, color='#3e4444', width =barWidth, label='Singapore')\n",
        "plt.bar(xpos+5, Thailand, color='#d64161', width =barWidth, label='Thailand')\n",
        "plt.bar(xpos+5.5, Vietnam, color='#405d27', width =barWidth, label='Vietnam')\n",
        "plt.xticks(xpos + 3,((('2015', '2020', '2025', '2030', '2035', '2040', '2045', '2050'))))\n",
        "plt.ylabel(\"Population (in thousands)\")\n",
        "plt.title('Southeast Asia Population', fontweight=\"bold\", fontdict={'fontname': 'DejaVu Sans', 'fontsize': 18})\n",
        "plt.legend(loc='upper center', bbox_to_anchor=(0.5, -0.1), fancybox=True, ncol=5)\n",
        "#Saving visualizations in TIFF file with 300 dpi\n",
        "plt.savefig('FoodProduction.tiff', transparent=True, dpi=300)\n",
        "plt.show()"
      ],
      "metadata": {
        "id": "IRaqSJPa1fZ4",
        "outputId": "955654f4-fbff-4eaf-dc0e-b5c78c3dc32b",
        "colab": {
          "base_uri": "https://localhost:8080/",
          "height": 627
        }
      },
      "id": "IRaqSJPa1fZ4",
      "execution_count": null,
      "outputs": [
        {
          "output_type": "display_data",
          "data": {
            "text/plain": [
              "<Figure size 864x648 with 1 Axes>"
            ],
            "image/png": "[encoded data removed]"
          },
          "metadata": {}
        }
      ]
    },
    {
      "cell_type": "markdown",
      "source": [
        "# Interpretation:"
      ],
      "metadata": {
        "id": "KeFQc4Zd1xY2"
      },
      "id": "KeFQc4Zd1xY2"
    },
    {
      "cell_type": "markdown",
      "source": [
        "The bar chart represented is entitled the \"Southeast Asia Population\", which illustrates the current overall population growth in each country in the Southeast Asia. Represented in the diagram are the range of specific population quantity corresponding to a specific year. Shown in the x -axis are the span of years which a corresponding quantity of population is growing, on the other hand, the y-axis is composed of the quantity population. Based on the graph, each bar has a legend that represents each country population growth and their corresponding year."
      ],
      "metadata": {
        "id": "UW71BpWL14F4"
      },
      "id": "UW71BpWL14F4"
    },
    {
      "cell_type": "markdown",
      "source": [
        "# Analysis:"
      ],
      "metadata": {
        "id": "Xj9Rk-fpyVq0"
      },
      "id": "Xj9Rk-fpyVq0"
    },
    {
      "cell_type": "markdown",
      "source": [
        "Among in the Southeast Asian country, Indonesia has the highest population growth that is relatively contribute large amount of food waste also ranking in second on the highest food production in its neighboring country."
      ],
      "metadata": {
        "id": "odHxJ7m9ycLt"
      },
      "id": "odHxJ7m9ycLt"
    },
    {
      "cell_type": "code",
      "execution_count": 5,
      "id": "96331774",
      "metadata": {
        "id": "96331774",
        "outputId": "d7ee71a2-e26f-4ee6-8a39-fa998b4717f6",
        "colab": {
          "base_uri": "https://localhost:8080/",
          "height": 300
        }
      },
      "outputs": [
        {
          "output_type": "execute_result",
          "data": {
            "text/plain": [
              "                  Country  2000  2006  2012  2021\n",
              "0                Thailand  18.5  12.3  12.4  11.7\n",
              "1                Malaysia  15.4  13.7  12.4  12.8\n",
              "2                Viet Nam  26.3  21.8  16.0  13.6\n",
              "3             Philippines  25.0  20.4  20.5  16.8\n",
              "4                Cambodia  41.1  27.1  24.2  17.0\n",
              "5                 Myanmar  39.8  31.6  22.9  17.5\n",
              "6               Indonesia  26.1  29.5  23.0  18.0\n",
              "7  Lao People's Dem. Rep.  44.1  31.9  25.7  19.5"
            ],
            "text/html": [
              "\n",
              "  <div id=\"df-d3549528-28c9-4ec3-a488-6b5f02f6ee25\">\n",
              "    <div class=\"colab-df-container\">\n",
              "      <div>\n",
              "<style scoped>\n",
              "    .dataframe tbody tr th:only-of-type {\n",
              "        vertical-align: middle;\n",
              "    }\n",
              "\n",
              "    .dataframe tbody tr th {\n",
              "        vertical-align: top;\n",
              "    }\n",
              "\n",
              "    .dataframe thead th {\n",
              "        text-align: right;\n",
              "    }\n",
              "</style>\n",
              "<table border=\"1\" class=\"dataframe\">\n",
              "  <thead>\n",
              "    <tr style=\"text-align: right;\">\n",
              "      <th></th>\n",
              "      <th>Country</th>\n",
              "      <th>2000</th>\n",
              "      <th>2006</th>\n",
              "      <th>2012</th>\n",
              "      <th>2021</th>\n",
              "    </tr>\n",
              "  </thead>\n",
              "  <tbody>\n",
              "    <tr>\n",
              "      <th>0</th>\n",
              "      <td>Thailand</td>\n",
              "      <td>18.5</td>\n",
              "      <td>12.3</td>\n",
              "      <td>12.4</td>\n",
              "      <td>11.7</td>\n",
              "    </tr>\n",
              "    <tr>\n",
              "      <th>1</th>\n",
              "      <td>Malaysia</td>\n",
              "      <td>15.4</td>\n",
              "      <td>13.7</td>\n",
              "      <td>12.4</td>\n",
              "      <td>12.8</td>\n",
              "    </tr>\n",
              "    <tr>\n",
              "      <th>2</th>\n",
              "      <td>Viet Nam</td>\n",
              "      <td>26.3</td>\n",
              "      <td>21.8</td>\n",
              "      <td>16.0</td>\n",
              "      <td>13.6</td>\n",
              "    </tr>\n",
              "    <tr>\n",
              "      <th>3</th>\n",
              "      <td>Philippines</td>\n",
              "      <td>25.0</td>\n",
              "      <td>20.4</td>\n",
              "      <td>20.5</td>\n",
              "      <td>16.8</td>\n",
              "    </tr>\n",
              "    <tr>\n",
              "      <th>4</th>\n",
              "      <td>Cambodia</td>\n",
              "      <td>41.1</td>\n",
              "      <td>27.1</td>\n",
              "      <td>24.2</td>\n",
              "      <td>17.0</td>\n",
              "    </tr>\n",
              "    <tr>\n",
              "      <th>5</th>\n",
              "      <td>Myanmar</td>\n",
              "      <td>39.8</td>\n",
              "      <td>31.6</td>\n",
              "      <td>22.9</td>\n",
              "      <td>17.5</td>\n",
              "    </tr>\n",
              "    <tr>\n",
              "      <th>6</th>\n",
              "      <td>Indonesia</td>\n",
              "      <td>26.1</td>\n",
              "      <td>29.5</td>\n",
              "      <td>23.0</td>\n",
              "      <td>18.0</td>\n",
              "    </tr>\n",
              "    <tr>\n",
              "      <th>7</th>\n",
              "      <td>Lao People's Dem. Rep.</td>\n",
              "      <td>44.1</td>\n",
              "      <td>31.9</td>\n",
              "      <td>25.7</td>\n",
              "      <td>19.5</td>\n",
              "    </tr>\n",
              "  </tbody>\n",
              "</table>\n",
              "</div>\n",
              "      <button class=\"colab-df-convert\" onclick=\"convertToInteractive('df-d3549528-28c9-4ec3-a488-6b5f02f6ee25')\"\n",
              "              title=\"Convert this dataframe to an interactive table.\"\n",
              "              style=\"display:none;\">\n",
              "        \n",
              "  <svg xmlns=\"http://www.w3.org/2000/svg\" height=\"24px\"viewBox=\"0 0 24 24\"\n",
              "       width=\"24px\">\n",
              "    <path d=\"M0 0h24v24H0V0z\" fill=\"none\"/>\n",
              "    <path d=\"M18.56 5.44l.94 2.06.94-2.06 2.06-.94-2.06-.94-.94-2.06-.94 2.06-2.06.94zm-11 1L8.5 8.5l.94-2.06 2.06-.94-2.06-.94L8.5 2.5l-.94 2.06-2.06.94zm10 10l.94 2.06.94-2.06 2.06-.94-2.06-.94-.94-2.06-.94 2.06-2.06.94z\"/><path d=\"M17.41 7.96l-1.37-1.37c-.4-.4-.92-.59-1.43-.59-.52 0-1.04.2-1.43.59L10.3 9.45l-7.72 7.72c-.78.78-.78 2.05 0 2.83L4 21.41c.39.39.9.59 1.41.59.51 0 1.02-.2 1.41-.59l7.78-7.78 2.81-2.81c.8-.78.8-2.07 0-2.86zM5.41 20L4 18.59l7.72-7.72 1.47 1.35L5.41 20z\"/>\n",
              "  </svg>\n",
              "      </button>\n",
              "      \n",
              "  <style>\n",
              "    .colab-df-container {\n",
              "      display:flex;\n",
              "      flex-wrap:wrap;\n",
              "      gap: 12px;\n",
              "    }\n",
              "\n",
              "    .colab-df-convert {\n",
              "      background-color: #E8F0FE;\n",
              "      border: none;\n",
              "      border-radius: 50%;\n",
              "      cursor: pointer;\n",
              "      display: none;\n",
              "      fill: #1967D2;\n",
              "      height: 32px;\n",
              "      padding: 0 0 0 0;\n",
              "      width: 32px;\n",
              "    }\n",
              "\n",
              "    .colab-df-convert:hover {\n",
              "      background-color: #E2EBFA;\n",
              "      box-shadow: 0px 1px 2px rgba(60, 64, 67, 0.3), 0px 1px 3px 1px rgba(60, 64, 67, 0.15);\n",
              "      fill: #174EA6;\n",
              "    }\n",
              "\n",
              "    [theme=dark] .colab-df-convert {\n",
              "      background-color: #3B4455;\n",
              "      fill: #D2E3FC;\n",
              "    }\n",
              "\n",
              "    [theme=dark] .colab-df-convert:hover {\n",
              "      background-color: #434B5C;\n",
              "      box-shadow: 0px 1px 3px 1px rgba(0, 0, 0, 0.15);\n",
              "      filter: drop-shadow(0px 1px 2px rgba(0, 0, 0, 0.3));\n",
              "      fill: #FFFFFF;\n",
              "    }\n",
              "  </style>\n",
              "\n",
              "      <script>\n",
              "        const buttonEl =\n",
              "          document.querySelector('#df-d3549528-28c9-4ec3-a488-6b5f02f6ee25 button.colab-df-convert');\n",
              "        buttonEl.style.display =\n",
              "          google.colab.kernel.accessAllowed ? 'block' : 'none';\n",
              "\n",
              "        async function convertToInteractive(key) {\n",
              "          const element = document.querySelector('#df-d3549528-28c9-4ec3-a488-6b5f02f6ee25');\n",
              "          const dataTable =\n",
              "            await google.colab.kernel.invokeFunction('convertToInteractive',\n",
              "                                                     [key], {});\n",
              "          if (!dataTable) return;\n",
              "\n",
              "          const docLinkHtml = 'Like what you see? Visit the ' +\n",
              "            '<a target=\"_blank\" href=https://colab.research.google.com/notebooks/data_table.ipynb>data table notebook</a>'\n",
              "            + ' to learn more about interactive tables.';\n",
              "          element.innerHTML = '';\n",
              "          dataTable['output_type'] = 'display_data';\n",
              "          await google.colab.output.renderOutput(dataTable, element);\n",
              "          const docLink = document.createElement('div');\n",
              "          docLink.innerHTML = docLinkHtml;\n",
              "          element.appendChild(docLink);\n",
              "        }\n",
              "      </script>\n",
              "    </div>\n",
              "  </div>\n",
              "  "
            ]
          },
          "metadata": {},
          "execution_count": 5
        }
      ],
      "source": [
        "url = 'https://raw.githubusercontent.com/renzcarlo24/ITBA-3207-Team-Big-Bytes/main/Datasets/GlobalHungerIndex2021.csv'\n",
        "ghi_data = pd.read_csv(url)\n",
        "ghi_data"
      ]
    },
    {
      "cell_type": "code",
      "execution_count": 2,
      "id": "3641175f",
      "metadata": {
        "id": "3641175f"
      },
      "outputs": [],
      "source": [
        "#Input Values\n",
        "Thailand = (18.5, 12.3, 12.4, 11.7)\n",
        "Malaysia = (15.4, 13.7, 12.4, 12.8)\n",
        "Vietnam = (26.3, 21.8, 16.0, 13.6)\n",
        "Philippines = (25.0, 20.4, 20.5, 16.8)\n",
        "Cambodia = (41.1, 27.1, 24.2, 17.0)\n",
        "Myanmar = (39.8, 31.6, 22.9, 17.5)\n",
        "Indonesia = (26.1, 29.5, 23.0, 18.0)\n",
        "Laos = (44.1, 31.9, 25.7, 19.5)"
      ]
    },
    {
      "cell_type": "code",
      "execution_count": 3,
      "id": "3510abc8",
      "metadata": {
        "id": "3510abc8",
        "outputId": "cf6ec095-f2e9-489b-cffe-36762df4df0d",
        "colab": {
          "base_uri": "https://localhost:8080/",
          "height": 235
        }
      },
      "outputs": [
        {
          "output_type": "error",
          "ename": "NameError",
          "evalue": "ignored",
          "traceback": [
            "\u001b[0;31m---------------------------------------------------------------------------\u001b[0m",
            "\u001b[0;31mNameError\u001b[0m                                 Traceback (most recent call last)",
            "\u001b[0;32m<ipython-input-3-4094aff26610>\u001b[0m in \u001b[0;36m<module>\u001b[0;34m()\u001b[0m\n\u001b[1;32m      1\u001b[0m \u001b[0;31m#Creating the Plot\u001b[0m\u001b[0;34m\u001b[0m\u001b[0;34m\u001b[0m\u001b[0;34m\u001b[0m\u001b[0m\n\u001b[0;32m----> 2\u001b[0;31m \u001b[0mstyle\u001b[0m\u001b[0;34m.\u001b[0m\u001b[0muse\u001b[0m\u001b[0;34m(\u001b[0m\u001b[0;34m'ggplot'\u001b[0m\u001b[0;34m)\u001b[0m\u001b[0;34m\u001b[0m\u001b[0;34m\u001b[0m\u001b[0m\n\u001b[0m\u001b[1;32m      3\u001b[0m \u001b[0mplt\u001b[0m\u001b[0;34m.\u001b[0m\u001b[0mfigure\u001b[0m\u001b[0;34m(\u001b[0m\u001b[0mfigsize\u001b[0m\u001b[0;34m=\u001b[0m\u001b[0;34m(\u001b[0m\u001b[0;36m15\u001b[0m\u001b[0;34m,\u001b[0m\u001b[0;36m11\u001b[0m\u001b[0;34m)\u001b[0m\u001b[0;34m)\u001b[0m\u001b[0;34m\u001b[0m\u001b[0;34m\u001b[0m\u001b[0m\n\u001b[1;32m      4\u001b[0m \u001b[0mbarWidth\u001b[0m \u001b[0;34m=\u001b[0m \u001b[0;36m0.4\u001b[0m\u001b[0;34m\u001b[0m\u001b[0;34m\u001b[0m\u001b[0m\n\u001b[1;32m      5\u001b[0m \u001b[0;34m\u001b[0m\u001b[0m\n",
            "\u001b[0;31mNameError\u001b[0m: name 'style' is not defined"
          ]
        }
      ],
      "source": [
        "#Creating the Plot\n",
        "style.use('ggplot')\n",
        "plt.figure(figsize=(15,11))\n",
        "barWidth = 0.4\n",
        "\n",
        "xpos = np.array([2000, 2006, 2012, 2021])\n",
        "plt.bar(xpos+1, Thailand, color='#4040a1', width =barWidth, label='Thailand')\n",
        "plt.bar(xpos+1.5, Malaysia, color='#b1cbbb', width =barWidth, label='Malaysia')\n",
        "plt.bar(xpos+2, Vietnam, color='#bc5a45', width =barWidth, label='Vietnam')\n",
        "plt.bar(xpos+2.5, Philippines, color='#618685', width =barWidth, label='Philippines')\n",
        "plt.bar(xpos+3, Cambodia, color='#ffef96', width =barWidth, label='Cambodia')\n",
        "plt.bar(xpos+3.5, Myanmar, color='#50394c', width =barWidth, label='Myanmar')\n",
        "plt.bar(xpos+4, Indonesia, color='#034f84', width =barWidth, label='Indonesia')\n",
        "plt.bar(xpos+4.5, Laos, color='#3e4444', width =barWidth, label='Laos')\n",
        "plt.xticks(xpos + 3,((('2000', '2006', '2012', '2021'))))\n",
        "plt.ylabel(\"Rankings\")\n",
        "plt.title('Global Hunger Index 2021', fontdict={'fontname': 'DejaVu Sans', 'fontsize': 18})\n",
        "plt.legend()\n",
        "#Saving visualizations in TIFF file with 300 dpi\n",
        "plt.savefig('FoodProduction.tiff', transparent=True, dpi=300)\n",
        "plt.show()"
      ]
    },
    {
      "cell_type": "code",
      "source": [
        "url = 'https://raw.githubusercontent.com/renzcarlo24/ITBA-3207-Team-Big-Bytes/main/Datasets/FoodWaste2.csv'\n",
        "fw2 = pd.read_csv(url)"
      ],
      "metadata": {
        "id": "HqwiJ8hD3pVZ"
      },
      "id": "HqwiJ8hD3pVZ",
      "execution_count": null,
      "outputs": []
    },
    {
      "cell_type": "code",
      "source": [
        "fw2"
      ],
      "metadata": {
        "id": "zuXcalYw3tWN"
      },
      "id": "zuXcalYw3tWN",
      "execution_count": null,
      "outputs": []
    },
    {
      "cell_type": "code",
      "source": [
        "fw2.columns\n"
      ],
      "metadata": {
        "id": "FbqiVvh338Q8"
      },
      "id": "FbqiVvh338Q8",
      "execution_count": null,
      "outputs": []
    },
    {
      "cell_type": "code",
      "source": [
        "fw2 = fw2[['Country', 'Household tonnes/year', 'Food service tonnes/year', 'Retail tonnes/year', 'Population']]\n",
        "fw2.head()"
      ],
      "metadata": {
        "id": "UVSVPPXt4KZl"
      },
      "id": "UVSVPPXt4KZl",
      "execution_count": null,
      "outputs": []
    },
    {
      "cell_type": "code",
      "source": [
        "fw2.tail()"
      ],
      "metadata": {
        "id": "pnd6ij0c4Us2"
      },
      "id": "pnd6ij0c4Us2",
      "execution_count": null,
      "outputs": []
    },
    {
      "cell_type": "code",
      "source": [
        "fw2.info()"
      ],
      "metadata": {
        "id": "ALbywxPn4aXK"
      },
      "id": "ALbywxPn4aXK",
      "execution_count": null,
      "outputs": []
    },
    {
      "cell_type": "code",
      "source": [
        "fw2.describe()"
      ],
      "metadata": {
        "id": "_8I60wUI4eF-"
      },
      "id": "_8I60wUI4eF-",
      "execution_count": null,
      "outputs": []
    },
    {
      "cell_type": "code",
      "source": [
        "cor_mat = fw2.corr()\n",
        "cor_mat"
      ],
      "metadata": {
        "id": "7uAF4LI44kw2"
      },
      "id": "7uAF4LI44kw2",
      "execution_count": null,
      "outputs": []
    },
    {
      "cell_type": "code",
      "source": [
        "plt.figure(figsize=(11,8))\n",
        "sns.heatmap(data = cor_mat, annot = True)\n",
        "plt.title('Correlation Matrix of Southeast Asia Food Waste')\n",
        "plt.show()"
      ],
      "metadata": {
        "id": "oRN4dGXk4ti-"
      },
      "id": "oRN4dGXk4ti-",
      "execution_count": null,
      "outputs": []
    },
    {
      "cell_type": "markdown",
      "source": [
        "Positive Correlation Features:\n",
        "- Population and Household tonnes/year\n",
        "- Population and Food service tonnes/year\n",
        "- Population and Retail tonnes/year\n"
      ],
      "metadata": {
        "id": "aFES2XcEtjFe"
      },
      "id": "aFES2XcEtjFe"
    },
    {
      "cell_type": "code",
      "source": [
        "# Linear Regression\n",
        "#changing the size of visualization\n",
        "f = plt.figure(tight_layout=True)\n",
        "f.set_figwidth(23)\n",
        "f.set_figheight(10)\n",
        "#Linear Regression\n",
        "sns.lmplot(x=\"Population\", y=\"Household tonnes/year\", data=fw2)\n",
        "plt.title(\"\\n Relationship Between Population and Household tonnes/year\", fontweight=\"bold\")\n",
        "plt.show()"
      ],
      "metadata": {
        "id": "y1fHlKy95V4h"
      },
      "id": "y1fHlKy95V4h",
      "execution_count": null,
      "outputs": []
    },
    {
      "cell_type": "markdown",
      "source": [
        "#Population vs Household tonnes/year"
      ],
      "metadata": {
        "id": "s2KB341cttXt"
      },
      "id": "s2KB341cttXt"
    },
    {
      "cell_type": "markdown",
      "source": [
        "- The calculated correlation value of 1 indicates a strong positive relationship between these two variables. This can only mean that while the number of population is increasing then the amount of food waste is also increasing at the same time."
      ],
      "metadata": {
        "id": "FWxVkyy5t6fW"
      },
      "id": "FWxVkyy5t6fW"
    },
    {
      "cell_type": "code",
      "source": [
        "#changing the size of visualization\n",
        "f = plt.figure(tight_layout=True)\n",
        "f.set_figwidth(23)\n",
        "f.set_figheight(10)\n",
        "#Linear Regression\n",
        "sns.lmplot(x=\"Population\", y=\"Food service tonnes/year\", data=fw2)\n",
        "plt.title(\"\\n Relationship Between Population and Food service tonnes/year\", fontweight=\"bold\")\n",
        "plt.show()"
      ],
      "metadata": {
        "id": "qwXTpuGE5mKO",
        "outputId": "f4448fb6-bb80-486d-857f-d1a2cfbe64ab",
        "colab": {
          "base_uri": "https://localhost:8080/",
          "height": 419
        }
      },
      "id": "qwXTpuGE5mKO",
      "execution_count": null,
      "outputs": [
        {
          "output_type": "display_data",
          "data": {
            "text/plain": [
              "<Figure size 1656x720 with 0 Axes>"
            ]
          },
          "metadata": {}
        },
        {
          "output_type": "display_data",
          "data": {
            "text/plain": [
              "<Figure size 360x360 with 1 Axes>"
            ],
            "image/png": "[encoded data removed]"
          },
          "metadata": {}
        }
      ]
    },
    {
      "cell_type": "markdown",
      "source": [
        "# Population vs Food Service Tonnes/Year"
      ],
      "metadata": {
        "id": "hW8lIDZLuDVr"
      },
      "id": "hW8lIDZLuDVr"
    },
    {
      "cell_type": "markdown",
      "source": [
        "- The relationship between these two variables, population and food service tonnes/year in the Southeast Asia, is great. Just like to the previous interpretation, the increasing number of population is also increasing the amount of food waste."
      ],
      "metadata": {
        "id": "FqDXryMuuGY9"
      },
      "id": "FqDXryMuuGY9"
    },
    {
      "cell_type": "code",
      "source": [
        "#changing the size of visualization\n",
        "f = plt.figure(tight_layout=True)\n",
        "f.set_figwidth(23)\n",
        "f.set_figheight(10)\n",
        "#Linear Regression\n",
        "sns.lmplot(x=\"Population\", y=\"Retail tonnes/year\", data=fw2)\n",
        "plt.title(\"\\n Relationship Between Population and Retail tonnes/year\", fontweight=\"bold\")\n",
        "plt.show()"
      ],
      "metadata": {
        "id": "19hA1TPq5vLP",
        "outputId": "f5a741c2-7cbb-41c3-ff84-c1049dbf2628",
        "colab": {
          "base_uri": "https://localhost:8080/",
          "height": 419
        }
      },
      "id": "19hA1TPq5vLP",
      "execution_count": null,
      "outputs": [
        {
          "output_type": "display_data",
          "data": {
            "text/plain": [
              "<Figure size 1656x720 with 0 Axes>"
            ]
          },
          "metadata": {}
        },
        {
          "output_type": "display_data",
          "data": {
            "text/plain": [
              "<Figure size 360x360 with 1 Axes>"
            ],
            "image/png": "[encoded data removed]"
          },
          "metadata": {}
        }
      ]
    },
    {
      "cell_type": "markdown",
      "source": [
        "# Population vs Retail tonnes/year"
      ],
      "metadata": {
        "id": "Ju1ehgVCuOeD"
      },
      "id": "Ju1ehgVCuOeD"
    },
    {
      "cell_type": "markdown",
      "source": [
        "- This graph depicts the relationship between population and the retail tonnes/year in the Southeast Asian country. It illustrates how population affect the increasing amount of retail food waste."
      ],
      "metadata": {
        "id": "_-p0EOeguTcl"
      },
      "id": "_-p0EOeguTcl"
    }
  ],
  "metadata": {
    "kernelspec": {
      "display_name": "Python 3 (ipykernel)",
      "language": "python",
      "name": "python3"
    },
    "language_info": {
      "codemirror_mode": {
        "name": "ipython",
        "version": 3
      },
      "file_extension": ".py",
      "mimetype": "text/x-python",
      "name": "python",
      "nbconvert_exporter": "python",
      "pygments_lexer": "ipython3",
      "version": "3.9.12"
    },
    "colab": {
      "name": "Data Visualization.ipynb",
      "provenance": [],
      "include_colab_link": true
    }
  },
  "nbformat": 4,
  "nbformat_minor": 5
}